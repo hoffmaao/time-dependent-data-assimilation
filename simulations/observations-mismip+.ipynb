{
 "cells": [
  {
   "cell_type": "code",
   "execution_count": 114,
   "metadata": {},
   "outputs": [],
   "source": [
    "import firedrake\n",
    "from firedrake import exp, sin, cos, max_value, Constant, interpolate, dx, sqrt, inner, as_vector\n",
    "from firedrake_adjoint import ReducedFunctional, Control\n",
    "import matplotlib.pyplot as plt\n",
    "from mpl_toolkits import mplot3d\n",
    "import icepack\n",
    "import icepack.plot\n",
    "from icepack.constants import (\n",
    "    ice_density as ρ_I,\n",
    "    water_density as ρ_W,\n",
    "    gravity as g,\n",
    "    weertman_sliding_law as m\n",
    ")\n",
    "import os\n",
    "import numpy as np\n",
    "import tqdm\n",
    "import random\n",
    "from math import floor\n",
    "from collections import deque\n",
    "from scipy.interpolate import RegularGridInterpolator\n",
    "import pandas as pd"
   ]
  },
  {
   "cell_type": "markdown",
   "metadata": {},
   "source": [
    "# Grounded ice-stream\n",
    "We start by defining the domain geometry and the function spaces over which we will be solving the equations of state for ice thickness and ice velocity. We'll use plug flow assumptions (shelfy-stream equations) to bootstrap to solutions that represent vertical shear using the hyrbrid ice-flow model (1st order approximation to the stockes equations). This will solve equations on a 2D footprint mesh that we can then interpolate onto a vertically extruded interval mesh. We'll start by defining the geometry (domain boundaries and basal topogarphy) as well as the perscribed friction coefficient field that we will use in the ice sheet model simulations.\n"
   ]
  },
  {
   "cell_type": "code",
   "execution_count": 2,
   "metadata": {},
   "outputs": [],
   "source": [
    "Lx,Ly = 640e3,80e3\n",
    "ny=25\n",
    "nx=int(Lx/Ly) * ny\n",
    "area = Lx*Ly\n",
    "A = Constant(20)\n",
    "coarse_mesh = firedrake.RectangleMesh(nx, ny, Lx, Ly)\n",
    "mesh_hierarchy = firedrake.MeshHierarchy(coarse_mesh, 2)\n",
    "mesh2d = mesh_hierarchy[1]\n",
    "Q = firedrake.FunctionSpace(mesh2d, family='CG', degree=2)\n",
    "V = firedrake.VectorFunctionSpace(mesh2d, family='CG', degree=2)"
   ]
  },
  {
   "cell_type": "markdown",
   "metadata": {},
   "source": [
    "# Bed topography\n",
    "We define the base topography using equations for the mismip+ exxperiment that we perturb using a random mid-point displacement algorthim."
   ]
  },
  {
   "cell_type": "code",
   "execution_count": 3,
   "metadata": {},
   "outputs": [],
   "source": [
    "def mismip_bed(Q):\n",
    "    mesh=Q.mesh()\n",
    "    x, y = firedrake.SpatialCoordinate(mesh)\n",
    "\n",
    "    x_c = Constant(300e3)\n",
    "    X = x / x_c\n",
    "\n",
    "    B_0 = -150\n",
    "    B_2 = -728.8\n",
    "    B_4 = 343.91\n",
    "    B_6 = -50.57\n",
    "    B_x = B_0 + B_2 * X**2 + B_4 * X**4 + B_6 * X**6\n",
    "\n",
    "    f_c = 4e3\n",
    "    d_c = 500\n",
    "    w_c = 24e3\n",
    "    B_y = d_c * (\n",
    "        1 / (1 + exp(-2 * (y - Ly / 2 - w_c) / f_c)) +\n",
    "        1 / (1 + exp(+2 * (y - Ly / 2 + w_c) / f_c))\n",
    "    )\n",
    "    \n",
    "    z_deep = -720\n",
    "    z_b = interpolate(max_value(B_x + B_y, z_deep), Q)\n",
    "    \n",
    "    return max_value(B_x + B_y, z_deep)"
   ]
  },
  {
   "cell_type": "code",
   "execution_count": 4,
   "metadata": {},
   "outputs": [],
   "source": [
    "def perturb_bed(Q,V,Nx=nx,Ny=ny,mu=0,sigma=200,method='linear'):\n",
    "    mesh = Q.mesh()\n",
    "    element = Q.ufl_element()\n",
    "    V = firedrake.VectorFunctionSpace(mesh, element)\n",
    "    X = firedrake.interpolate(mesh.coordinates, V).dat.data_ro\n",
    "    bed_perturb = firedrake.Function(Q)\n",
    "    \n",
    "    size = max(Nx,Ny)\n",
    "    x=np.linspace(X[:, 0].min(),X[:, 0].max(),size)\n",
    "    y=np.linspace(X[:, 1].min(),X[:, 1].max(),size)\n",
    "\n",
    "\n",
    "    perturb=np.zeros((size,size))\n",
    "    perturb[0][0]=random.randint(0, 0)\n",
    "    perturb[size-1][0]=random.randint(0, 0)\n",
    "    perturb[0][size-1]=random.randint(0, 0)\n",
    "    perturb[size-1][size-1]=random.randint(0, 0)\n",
    "    \n",
    "    q = deque()\n",
    "    q.append((0,0,size-1,size-1,sigma))\n",
    "    \n",
    "    while len(q) != 0:\n",
    "        top, left, bottom, right, randomness = q.popleft()\n",
    "        centerX = (left + right) // 2\n",
    "        centerY = (top + bottom) // 2\n",
    "        \n",
    "        perturb[centerX][top] = (perturb[left][top] + perturb[right][top]) // 2 + random.randint(-randomness, randomness)\n",
    "        perturb[centerX][bottom] = (perturb[left][bottom] + perturb[right][bottom]) // 2 + random.randint(-randomness, randomness)\n",
    "        perturb[left][centerY] = (perturb[left][top] + perturb[left][bottom]) // 2 + random.randint(-randomness, randomness)\n",
    "        perturb[right][centerY] = (perturb[right][top] + perturb[right][bottom]) // 2 + random.randint(-randomness, randomness)        \n",
    "        \n",
    "        perturb[centerX][centerY] = (perturb[left][top] +\n",
    "                                       perturb[right][top] +\n",
    "                                       perturb[left][bottom] +\n",
    "                                       perturb[right][bottom]) // 4 + \\\n",
    "                                      random.randint(-randomness, randomness)\n",
    "\n",
    "        if right - left > 2:\n",
    "            q.append((top, left, centerY, centerX, randomness // 2))\n",
    "            q.append((top, centerX, centerY, right, randomness // 2))\n",
    "            q.append((centerY, left, bottom, centerX, randomness // 2))\n",
    "            q.append((centerY, centerX, bottom, right, randomness // 2))\n",
    "\n",
    "    interpolator = RegularGridInterpolator((x, y), perturb, method=method)\n",
    "    bed_perturb.dat.data[:] = interpolator(X, method)\n",
    "    return bed_perturb"
   ]
  },
  {
   "cell_type": "code",
   "execution_count": 5,
   "metadata": {},
   "outputs": [],
   "source": [
    "def friction_perturb(mesh,n=30,dx=5500,dy=5500):\n",
    "    \n",
    "    M=np.random.rand(n,3)\n",
    "    M[:,0]=(M[:,0])*Lx\n",
    "    M[:,1]=(M[:,1])*Ly\n",
    "    M[:,2]=M[:,2]*1e-2\n",
    "    x,y  = firedrake.SpatialCoordinate(mesh)\n",
    "    C= Constant(0.0)\n",
    "    for i in range(n):\n",
    "        C=C+M[i,2]*exp(-(x-Constant(M[i,0]))**2/dx**2-(y-Constant(M[i,1]))**2/dy**2)\n",
    "    return C+Constant(5e-3)-x**(1/3)*Constant(5e-3)/Lx**(1/3)\n",
    "    "
   ]
  },
  {
   "cell_type": "code",
   "execution_count": 40,
   "metadata": {
    "scrolled": false
   },
   "outputs": [],
   "source": [
    "if not os.path.exists('../data/initialization/friction.h5'):\n",
    "    C=interpolate(friction_perturb(mesh2d),Q)\n",
    "    \n",
    "    with firedrake.DumbCheckpoint(\n",
    "        '../data/initialization/friction', mode=firedrake.FILE_CREATE\n",
    "    ) as checkpoint:\n",
    "        checkpoint.store(C, name='friction')\n",
    "\n",
    "else:\n",
    "    C = firedrake.Function(Q)\n",
    "    \n",
    "    with firedrake.DumbCheckpoint(\n",
    "        '../data/initialization/friction', mode=firedrake.FILE_READ\n",
    "    ) as checkpoint:\n",
    "        checkpoint.load(C, name='friction')"
   ]
  },
  {
   "cell_type": "code",
   "execution_count": 32,
   "metadata": {},
   "outputs": [],
   "source": [
    "z_b = interpolate(mismip_bed(Q), Q)\n",
    "z_perturb = perturb_bed(Q,Nx=nx,Ny=ny,mu=0,sigma=200,method='linear')"
   ]
  },
  {
   "cell_type": "code",
   "execution_count": 43,
   "metadata": {},
   "outputs": [],
   "source": [
    "if not os.path.exists('../data/initialization/bed.h5'):\n",
    "    bed = interpolate(z_perturb+z_b,Q) \n",
    "    \n",
    "    with firedrake.DumbCheckpoint(\n",
    "        '../data/initialization/bed', mode=firedrake.FILE_CREATE\n",
    "    ) as checkpoint:\n",
    "        checkpoint.store(bed, name='bed')\n",
    "\n",
    "else:\n",
    "    bed = firedrake.Function(Q)\n",
    "    \n",
    "    with firedrake.DumbCheckpoint(\n",
    "        '../data/initialization/bed', mode=firedrake.FILE_READ\n",
    "    ) as checkpoint:\n",
    "        checkpoint.load(bed, name='bed')"
   ]
  },
  {
   "cell_type": "code",
   "execution_count": 44,
   "metadata": {},
   "outputs": [
    {
     "data": {
      "image/png": "[encoded data removed]",
      "text/plain": [
       "<Figure size 2400x1600 with 2 Axes>"
      ]
     },
     "metadata": {
      "needs_background": "light"
     },
     "output_type": "display_data"
    }
   ],
   "source": [
    "fig, axes = icepack.plot.subplots(dpi=400)\n",
    "contours = icepack.plot.tricontourf(bed, 40, axes=axes)\n",
    "CS=plt.colorbar(contours, ax=axes, orientation='horizontal', pad=0.15,fraction=.045,ticks=[-1000,-750,-500,-250,0,250,500])\n",
    "CS.set_label(r'bed elevation.($m$)',fontsize=15)\n",
    "plt.tight_layout()\n",
    "plt.show(fig)\n",
    "plt.savefig('../figures/fig01/bed.png')\n",
    "plt.close()"
   ]
  },
  {
   "cell_type": "code",
   "execution_count": 45,
   "metadata": {},
   "outputs": [
    {
     "data": {
      "image/png": "[encoded data removed]",
      "text/plain": [
       "<Figure size 2400x1600 with 2 Axes>"
      ]
     },
     "metadata": {
      "needs_background": "light"
     },
     "output_type": "display_data"
    },
    {
     "data": {
      "text/plain": [
       "<Figure size 432x288 with 0 Axes>"
      ]
     },
     "metadata": {},
     "output_type": "display_data"
    }
   ],
   "source": [
    "fig, axes = icepack.plot.subplots(dpi=400)\n",
    "contours = icepack.plot.tricontourf(C, 25, axes=axes)\n",
    "CS=plt.colorbar(contours, ax=axes, orientation='horizontal', pad=0.15,fraction=.045)\n",
    "CS.set_label(r'friction coefficient.($Pa/(ma^{-1})^{m})$)',fontsize=15)\n",
    "plt.tight_layout()\n",
    "plt.show(fig)\n",
    "plt.savefig('../figures/fig01/friction.png')"
   ]
  },
  {
   "cell_type": "code",
   "execution_count": 46,
   "metadata": {},
   "outputs": [],
   "source": [
    "def friction(**kwargs):\n",
    "    variables = ('velocity', 'thickness', 'surface', 'friction')\n",
    "    u, h, s, C = map(kwargs.get, variables)\n",
    "\n",
    "    p_W = ρ_W * g * max_value(0, -(s - h))\n",
    "    p_I = ρ_I * g * h\n",
    "    N = max_value(0, p_I - p_W)\n",
    "    τ_c = N / 2\n",
    "\n",
    "    u_c = (τ_c / C)**m\n",
    "    u_b = sqrt(inner(u, u))\n",
    "\n",
    "    return τ_c * (\n",
    "        (u_c**(1/m + 1) + u_b**(1/m + 1))**(m / (m + 1)) - u_c\n",
    "    )\n",
    "\n",
    "def flotationHeight(zb, Q, rho_I= ρ_I, rho_W=ρ_W):\n",
    "    \"\"\"Given bed elevation, determine height of flotation for function space Q.\n",
    "    Parameters\n",
    "    ----------\n",
    "    zb  : firedrake interp function\n",
    "        bed elevation (m)\n",
    "    Q : firedrake function space\n",
    "        function space\n",
    "    rho_I : [type], optional\n",
    "        [description], by default rhoI\n",
    "    rho_W : [type], optional\n",
    "        [description], by default rhoW\n",
    "    Returns\n",
    "    -------\n",
    "    zF firedrake interp function\n",
    "        Flotation height (m)\n",
    "    \"\"\"\n",
    "    # computation for height above flotation\n",
    "    zF = firedrake.interpolate(firedrake.max_value(-zb * (rho_W/rho_I-1), 0), Q)\n",
    "    return zF\n",
    "\n",
    "def flotationMask(s, zF, Q, rho_I=ρ_I, rho_W=ρ_W):\n",
    "    \"\"\"Using flotation height, create masks for floating and grounded ice.\n",
    "    Parameters\n",
    "    ----------\n",
    "    zF firedrake interp function\n",
    "        Flotation height (m)\n",
    "    Q : firedrake function space\n",
    "        function space\n",
    "    rho_I : [type], optional\n",
    "        [description], by default rhoI\n",
    "    rho_W : [type], optional\n",
    "        [description], by default rhoW\n",
    "    Returns\n",
    "    -------\n",
    "    floating firedrake interp function\n",
    "         ice shelf mask 1 floating, 0 grounded\n",
    "    grounded firedrake interp function\n",
    "        Grounded mask 1 grounded, 0 floating\n",
    "    \"\"\"\n",
    "    # smooth to avoid isolated points dipping below flotation.\n",
    "    zAbove = firedrakeSmooth(icepack.interpolate(s - zF, Q), α=100)\n",
    "    floating = icepack.interpolate(zAbove < 0, Q)\n",
    "    grounded = icepack.interpolate(zAbove > 0, Q)\n",
    "    return floating, grounded"
   ]
  },
  {
   "cell_type": "code",
   "execution_count": 55,
   "metadata": {},
   "outputs": [],
   "source": [
    "smb = Constant(0.5)\n",
    "a=firedrake.interpolate(smb,Q)\n",
    "area = firedrake.assemble(Constant(1) * dx(mesh2d))"
   ]
  },
  {
   "cell_type": "code",
   "execution_count": 56,
   "metadata": {},
   "outputs": [],
   "source": [
    "model = icepack.models.IceStream(friction=friction)"
   ]
  },
  {
   "cell_type": "code",
   "execution_count": 57,
   "metadata": {},
   "outputs": [],
   "source": [
    "h_0 = icepack.interpolate(Constant(100), Q)\n",
    "s_0 = icepack.compute_surface(thickness=h_0, bed=bed)"
   ]
  },
  {
   "cell_type": "code",
   "execution_count": 58,
   "metadata": {},
   "outputs": [],
   "source": [
    "def normalized_melt(total_melt,floating):\n",
    "    intMelt = firedrake.assemble(floating * firedrake.dx)\n",
    "    scale = firedrake.Constant(-1.0 * total_melt/float(intMelt))\n",
    "    melt = icepack.interpolate(scale * floating, Q)\n",
    "    return melt\n"
   ]
  },
  {
   "cell_type": "code",
   "execution_count": 59,
   "metadata": {},
   "outputs": [],
   "source": [
    "def run_spin_up(solver,C, bed, h, s, u, final_time, dt,total_melt,smb):\n",
    "    \n",
    "    zF = flotationHeight(bed, Q)\n",
    "    num_steps = int(final_time / dt)\n",
    "    progress_bar = tqdm.trange(num_steps)\n",
    "    for step in progress_bar:\n",
    "        \n",
    "        floating,grounded = flotationMask(s, zF, Q)\n",
    "        melt = normalized_melt(total_melt,floating)\n",
    "        a.interpolate(melt+smb)\n",
    "        h = solver.prognostic_solve(\n",
    "            dt,\n",
    "            thickness=h,\n",
    "            velocity=u,\n",
    "            accumulation=a,\n",
    "            thickness_inflow=h_0\n",
    "        )\n",
    "\n",
    "        s = icepack.compute_surface(thickness=h, bed=bed)\n",
    "\n",
    "        u = solver.diagnostic_solve(\n",
    "            velocity=u,\n",
    "            thickness=h,\n",
    "            surface=s,\n",
    "            fluidity=A,\n",
    "            friction=C\n",
    "        )\n",
    "\n",
    "        min_h = h.dat.data_ro.min()\n",
    "        avg_h = firedrake.assemble(h * dx) / area\n",
    "        description = f\"avg, min h: {avg_h:4.2f}, {min_h:4.2f}\"\n",
    "        progress_bar.set_description(description)\n",
    "        \n",
    "    return h, s, u"
   ]
  },
  {
   "cell_type": "code",
   "execution_count": 60,
   "metadata": {},
   "outputs": [],
   "source": [
    "def run_melt_variability_obs(solver, C, bed, h, s, u, final_time, dt, total_melt, smb):\n",
    "    zF = flotationHeight(bed, Q)\n",
    "    num_steps = int(final_time / dt)\n",
    "    progress_bar = tqdm.trange(num_steps)\n",
    "    i=0\n",
    "    for step in progress_bar:\n",
    "        floating,grounded = flotationMask(s, zF, Q)\n",
    "        melt = normalized_melt(total_melt[i],floating)\n",
    "        a.interpolate(melt+smb)\n",
    "        h = solver.prognostic_solve(\n",
    "            dt,\n",
    "            thickness=h,\n",
    "            velocity=u,\n",
    "            accumulation=a,\n",
    "            thickness_inflow=h_0\n",
    "        )\n",
    "\n",
    "        s = icepack.compute_surface(thickness=h, bed=bed)\n",
    "\n",
    "        u = solver.diagnostic_solve(\n",
    "            velocity=u,\n",
    "            thickness=h,\n",
    "            surface=s,\n",
    "            fluidity=A,\n",
    "            friction=C\n",
    "        )\n",
    "\n",
    "        min_h = h.dat.data_ro.min()\n",
    "        avg_h = firedrake.assemble(h * dx) / area\n",
    "        description = f\"avg, min h: {avg_h:4.2f}, {min_h:4.2f}\"\n",
    "        progress_bar.set_description(description)\n",
    "        i+=1\n",
    "        \n",
    "    return h, s, u"
   ]
  },
  {
   "cell_type": "code",
   "execution_count": 73,
   "metadata": {},
   "outputs": [],
   "source": [
    "def run_melt_variability(solver, C, bed, h, s, u, final_time, dt, melt, smb):\n",
    "    zF = flotationHeight(bed, Q)\n",
    "    num_steps = int(final_time / dt)\n",
    "    progress_bar = tqdm.trange(num_steps)\n",
    "    for step in progress_bar:\n",
    "        floating,grounded = flotationMask(s, zF, Q)\n",
    "        a.interpolate(melt*floating+smb)\n",
    "        h = solver.prognostic_solve(\n",
    "            dt,\n",
    "            thickness=h,\n",
    "            velocity=u,\n",
    "            accumulation=a,\n",
    "            thickness_inflow=h_0\n",
    "        )\n",
    "\n",
    "        s = icepack.compute_surface(thickness=h, bed=bed)\n",
    "\n",
    "        u = solver.diagnostic_solve(\n",
    "            velocity=u,\n",
    "            thickness=h,\n",
    "            surface=s,\n",
    "            fluidity=A,\n",
    "            friction=C\n",
    "        )\n",
    "\n",
    "        min_h = h.dat.data_ro.min()\n",
    "        avg_h = firedrake.assemble(h * dx) / area\n",
    "        description = f\"avg, min h: {avg_h:4.2f}, {min_h:4.2f}\"\n",
    "        progress_bar.set_description(description)\n",
    "        \n",
    "    return h, s, u"
   ]
  },
  {
   "cell_type": "code",
   "execution_count": 62,
   "metadata": {},
   "outputs": [],
   "source": [
    "def generate_surface(s,b,sigma):\n",
    "    X=firedrake.interpolate(mesh2d.coordinates, V).dat.data_ro\n",
    "    error = np.random.normal(0,sigma, size=s.dat.data.shape)\n",
    "    s_obs = s.copy(deepcopy=True)\n",
    "    s_obs.dat.data[:]=error+s.dat.data[:]\n",
    "    s_obs.dat.data[s_obs.dat.data<b.dat.data]=s.dat.data[s_obs.dat.data<b.dat.data]\n",
    "    \n",
    "    return s_obs \n",
    "    \n",
    "def generate_velocity(u,sigma):\n",
    "\n",
    "    X=firedrake.interpolate(mesh2d.coordinates, V).dat.data_ro\n",
    "    error = np.random.normal(0,sigma, size=u.dat.data.shape)\n",
    "    u_obs = u.copy(deepcopy=True)\n",
    "    u_obs.dat.data[:]=error+u.dat.data[:]\n",
    "    \n",
    "    return u_obs"
   ]
  },
  {
   "cell_type": "code",
   "execution_count": 63,
   "metadata": {},
   "outputs": [],
   "source": [
    "def firedrakeSmooth(q0, α=2e3):\n",
    "    \"\"\"[summary]\n",
    "    Parameters\n",
    "    ----------\n",
    "    q0 : firedrake function\n",
    "        firedrake function to be smooth\n",
    "    α : float, optional\n",
    "        parameter that controls the amount of smoothing, which is\n",
    "        approximately the smoothing lengthscale in m, by default 2e3\n",
    "    Returns\n",
    "    -------\n",
    "    q firedrake interp function\n",
    "        smoothed result\n",
    "    \"\"\"\n",
    "    q = q0.copy(deepcopy=True)\n",
    "    J = 0.5 * ((q - q0)**2 + α**2 * firedrake.inner(firedrake.grad(q), firedrake.grad(q))) * firedrake.dx\n",
    "    F = firedrake.derivative(J, q)\n",
    "    firedrake.solve(F == 0, q)\n",
    "    return q"
   ]
  },
  {
   "cell_type": "code",
   "execution_count": 64,
   "metadata": {},
   "outputs": [],
   "source": [
    "from firedrake import as_vector\n",
    "opts = {\n",
    "    'dirichlet_ids': [1],\n",
    "    'side_wall_ids': [3, 4],\n",
    "    'diagnostic_solver_type': 'petsc',\n",
    "    'diagnostic_solver_parameters': {\n",
    "        'snes_type': 'newtontr',\n",
    "        'ksp_type': 'preonly',\n",
    "        'pc_type': 'lu',\n",
    "        'pc_factor_mat_solver_type': 'mumps'\n",
    "    }\n",
    "}\n",
    "solver = icepack.solvers.FlowSolver(model, **opts)\n",
    "\n",
    "x,y= firedrake.SpatialCoordinate(mesh2d)\n",
    "u_0 = solver.diagnostic_solve(\n",
    "    velocity=interpolate(as_vector((90 * x / Lx, 0)), V),\n",
    "    thickness=h_0,\n",
    "    surface=s_0,\n",
    "    fluidity=A,\n",
    "    friction=C\n",
    ")\n"
   ]
  },
  {
   "cell_type": "markdown",
   "metadata": {},
   "source": [
    "# Run simulation\n",
    "We start by defining a user function that can update the thickness surface height and the velocity for several iterations of the prognostic model and return the thickness surface height and velocity of the ice sheet after a chosen length of time."
   ]
  },
  {
   "cell_type": "code",
   "execution_count": 65,
   "metadata": {
    "scrolled": false
   },
   "outputs": [],
   "source": [
    "import os\n",
    "final_time = 2000\n",
    "dt = 1\n",
    "\n",
    "if not os.path.exists('results/mismip-degree1.h5'):\n",
    "    h, s, u = run_spin_up(\n",
    "        solver, C, bed, h_0, s_0, u_0, final_time, dt, 0.0, smb\n",
    "    )\n",
    "    \n",
    "    with firedrake.DumbCheckpoint(\n",
    "        'results/mismip-degree1', mode=firedrake.FILE_CREATE\n",
    "    ) as checkpoint:\n",
    "        checkpoint.store(h, name='thickness')\n",
    "        checkpoint.store(s, name='surface')\n",
    "        checkpoint.store(u, name='velocity')\n",
    "\n",
    "else:\n",
    "    h = firedrake.Function(Q)\n",
    "    s = firedrake.Function(Q)\n",
    "    u = firedrake.Function(V)\n",
    "    \n",
    "    with firedrake.DumbCheckpoint(\n",
    "        'results/mismip-degree1', mode=firedrake.FILE_READ\n",
    "    ) as checkpoint:\n",
    "        checkpoint.load(h, name='thickness')\n",
    "        checkpoint.load(s, name='surface')\n",
    "        checkpoint.load(u, name='velocity')"
   ]
  },
  {
   "cell_type": "code",
   "execution_count": 66,
   "metadata": {},
   "outputs": [],
   "source": [
    "import os\n",
    "final_time = 500\n",
    "dt = 1/3\n",
    "\n",
    "if not os.path.exists('results/mismip-degree1-melt.h5'):\n",
    "    h, s, u = run_spin_up(\n",
    "        solver, C, bed, h, s, u, final_time, dt, 10e9, smb\n",
    "    )\n",
    "    \n",
    "    with firedrake.DumbCheckpoint(\n",
    "        'results/mismip-degree1-melt', mode=firedrake.FILE_CREATE\n",
    "    ) as checkpoint:\n",
    "        checkpoint.store(h, name='thickness')\n",
    "        checkpoint.store(s, name='surface')\n",
    "        checkpoint.store(u, name='velocity')\n",
    "\n",
    "else:\n",
    "    h = firedrake.Function(Q)\n",
    "    s = firedrake.Function(Q)\n",
    "    u = firedrake.Function(V)\n",
    "    \n",
    "    with firedrake.DumbCheckpoint(\n",
    "        'results/mismip-degree1-melt', mode=firedrake.FILE_READ\n",
    "    ) as checkpoint:\n",
    "        checkpoint.load(h, name='thickness')\n",
    "        checkpoint.load(s, name='surface')\n",
    "        checkpoint.load(u, name='velocity')"
   ]
  },
  {
   "cell_type": "code",
   "execution_count": 89,
   "metadata": {},
   "outputs": [
    {
     "data": {
      "image/png": "[encoded data removed]",
      "text/plain": [
       "<Figure size 2400x1600 with 2 Axes>"
      ]
     },
     "metadata": {
      "needs_background": "light"
     },
     "output_type": "display_data"
    },
    {
     "data": {
      "text/plain": [
       "<Figure size 432x288 with 0 Axes>"
      ]
     },
     "metadata": {},
     "output_type": "display_data"
    }
   ],
   "source": [
    "fig, axes = icepack.plot.subplots(dpi=400)\n",
    "contours = icepack.plot.tricontourf(u, 25, axes=axes)\n",
    "CS=plt.colorbar(contours, ax=axes, orientation='horizontal', pad=0.15,fraction=.045,ticks=[0,250,500,750,1000])\n",
    "CS.set_label(r'velocity.($ma^{-1}$)',fontsize=15)\n",
    "plt.tight_layout()\n",
    "plt.show(fig)\n",
    "plt.savefig('../figures/fig01/velocity.png')"
   ]
  },
  {
   "cell_type": "code",
   "execution_count": 90,
   "metadata": {},
   "outputs": [
    {
     "data": {
      "image/png": "[encoded data removed]",
      "text/plain": [
       "<Figure size 2400x1600 with 2 Axes>"
      ]
     },
     "metadata": {
      "needs_background": "light"
     },
     "output_type": "display_data"
    },
    {
     "data": {
      "text/plain": [
       "<Figure size 432x288 with 0 Axes>"
      ]
     },
     "metadata": {},
     "output_type": "display_data"
    }
   ],
   "source": [
    "fig, axes = icepack.plot.subplots(dpi=400)\n",
    "contours = icepack.plot.tricontourf(h, 25, axes=axes)\n",
    "CS=plt.colorbar(contours, ax=axes, orientation='horizontal', pad=0.15,fraction=.045,ticks=[0,250,500,750,1000])\n",
    "CS.set_label(r'thickness.($m$)',fontsize=15)\n",
    "plt.tight_layout()\n",
    "plt.show(fig)\n",
    "plt.savefig('../figures/fig01/thickness.png')"
   ]
  },
  {
   "cell_type": "code",
   "execution_count": 67,
   "metadata": {},
   "outputs": [],
   "source": [
    "import os\n",
    "time = 50\n",
    "obs_sample_rate = 1/4\n",
    "num_steps=int(time*obs_sample_rate)\n",
    "dt=1/24\n",
    "fraction=.2\n",
    "\n",
    "\n",
    "if not os.path.exists('../data/forcing/melt_variability_{:.3f}.csv'.format(fraction)):\n",
    "    N=time/dt\n",
    "    df = 1/(dt*N);\n",
    "    f0 = 0.5/dt;\n",
    "    f1 = np.arange(0,f0+df,df)\n",
    "    # persistence parameters\n",
    "    beta = 0.5 # exponent for power law noise (slope of spectrum in log-log space)\n",
    "    r = 0.95 # lag-1 autocorrelation for AR1 noise\n",
    "    tau = dt/(1-r) # \"memory\" of AR1 process\n",
    "    p0 = 1\n",
    "    \n",
    "    \n",
    "    #power spectra (analytical)\n",
    "    pb = np.sqrt(p0*(f0/f1[1:])**beta)\n",
    "    pr = np.sqrt(p0/(1 + r**2 - 2*r*np.cos(2*np.pi*dt*f1[1:])))\n",
    "\n",
    "    #random phases - must be conjugate symmetric\n",
    "    phase = np.zeros(int(N),dtype = 'complex_')\n",
    "    pos_freq = pb[1:int(np.ceil(N/2))]; #does NOT include nyquist or DC\n",
    "\n",
    "    ranphase=np.random.rand(pos_freq.shape[0]); #note this is uniformly, not gaussian distributed from 0 to 1\n",
    "    phase_half=1j*2*np.pi*ranphase\n",
    "    phase[1:len(pos_freq)+1]=phase_half\n",
    "    phase[int(N)-len(pos_freq):] = np.conj(np.flip(phase_half))\n",
    "    pb2=np.hstack((pb,np.flip(pb[:int(np.floor(N/2))])))\n",
    "    pr2=np.hstack((pr,np.flip(pb[:int(np.floor(N/2))])))\n",
    "    anomaly_std=float(10.0*fraction)\n",
    "    # combine phase and power spectra:\n",
    "    pbrand = pb2*np.exp(phase);\n",
    "    prrand = pr2*np.exp(phase);\n",
    "    pwhite = np.exp(phase);\n",
    "    \n",
    "    white = np.fft.ifft(pwhite);\n",
    "    white = white - np.mean(white);\n",
    "    white = np.real(white/np.std(white)*anomaly_std);\n",
    "    \n",
    "    pl = np.fft.ifft(pbrand);\n",
    "    pl = pl-np.mean(pl);\n",
    "    pl = np.real(pl/np.std(pl)*anomaly_std);\n",
    "    \n",
    "    ar1 = np.fft.ifft(prrand);\n",
    "    ar1 = ar1-np.mean(ar1);\n",
    "    ar1 = np.real(ar1/np.std(ar1)*anomaly_std);\n",
    "    d = {'time': np.arange(0,N*dt,dt), 'white': white,'ar1':ar1,'pl':pl }\n",
    "    melt_data=pd.DataFrame(data=d)\n",
    "    melt_data.to_csv('../data/forcing/melt_variability_{:.3f}.csv'.format(fraction))\n",
    "else:\n",
    "    melt_data=pd.read_csv('../data/forcing/melt_variability_{:.3f}.csv'.format(fraction))"
   ]
  },
  {
   "cell_type": "code",
   "execution_count": 68,
   "metadata": {},
   "outputs": [
    {
     "data": {
      "text/plain": [
       "array([ 1.2822449 , -0.30408141, -1.75688561, -1.29417822, -1.94781632,\n",
       "        0.31903642])"
      ]
     },
     "execution_count": 68,
     "metadata": {},
     "output_type": "execute_result"
    }
   ],
   "source": [
    "melt_data['ar1'][0:6].values"
   ]
  },
  {
   "cell_type": "code",
   "execution_count": 72,
   "metadata": {},
   "outputs": [
    {
     "data": {
      "text/plain": [
       "[<matplotlib.lines.Line2D at 0x7f9fdd809b50>]"
      ]
     },
     "execution_count": 72,
     "metadata": {},
     "output_type": "execute_result"
    },
    {
     "data": {
      "image/png": "[encoded data removed]",
      "text/plain": [
       "<Figure size 432x288 with 1 Axes>"
      ]
     },
     "metadata": {
      "needs_background": "light"
     },
     "output_type": "display_data"
    }
   ],
   "source": [
    "plt.subplots()\n",
    "plt.plot(melt_data['time'],melt_data['ar1']+10)"
   ]
  },
  {
   "cell_type": "code",
   "execution_count": 70,
   "metadata": {},
   "outputs": [
    {
     "name": "stderr",
     "output_type": "stream",
     "text": [
      "\r",
      "  0%|                                                                                      | 0/6 [00:00<?, ?it/s]"
     ]
    },
    {
     "name": "stdout",
     "output_type": "stream",
     "text": [
      "[1.12822449e+10 9.69591859e+09 8.24311439e+09 8.70582178e+09\n",
      " 8.05218368e+09 1.03190364e+10]\n"
     ]
    },
    {
     "name": "stderr",
     "output_type": "stream",
     "text": [
      "avg, min h: 503.70, 13.12: 100%|███████████████████████████████████████████████████| 6/6 [01:07<00:00, 11.27s/it]\n",
      "  0%|                                                                                      | 0/6 [00:00<?, ?it/s]"
     ]
    },
    {
     "name": "stdout",
     "output_type": "stream",
     "text": [
      "[1.16037777e+10 1.19021902e+10 1.19624513e+10 1.09690268e+10\n",
      " 1.01111930e+10 9.76091500e+09]\n"
     ]
    },
    {
     "name": "stderr",
     "output_type": "stream",
     "text": [
      "avg, min h: 503.69, 13.09: 100%|███████████████████████████████████████████████████| 6/6 [00:49<00:00,  8.17s/it]\n",
      "  0%|                                                                                      | 0/6 [00:00<?, ?it/s]"
     ]
    },
    {
     "name": "stdout",
     "output_type": "stream",
     "text": [
      "[9.03304203e+09 9.77544448e+09 1.08228436e+10 1.00618476e+10\n",
      " 8.30133630e+09 8.67729403e+09]\n"
     ]
    },
    {
     "name": "stderr",
     "output_type": "stream",
     "text": [
      "avg, min h: 503.69, 13.10: 100%|███████████████████████████████████████████████████| 6/6 [00:44<00:00,  7.38s/it]\n",
      "  0%|                                                                                      | 0/6 [00:00<?, ?it/s]"
     ]
    },
    {
     "name": "stdout",
     "output_type": "stream",
     "text": [
      "[8.07524129e+09 8.78899092e+09 9.34003178e+09 1.03879820e+10\n",
      " 9.72912314e+09 1.03749066e+10]\n"
     ]
    },
    {
     "name": "stderr",
     "output_type": "stream",
     "text": [
      "avg, min h: 503.69, 13.11: 100%|███████████████████████████████████████████████████| 6/6 [00:46<00:00,  7.73s/it]\n",
      "  0%|                                                                                      | 0/6 [00:00<?, ?it/s]"
     ]
    },
    {
     "name": "stdout",
     "output_type": "stream",
     "text": [
      "[1.00728659e+10 1.00416734e+10 1.09313544e+10 1.10262592e+10\n",
      " 1.04523945e+10 1.11333227e+10]\n"
     ]
    },
    {
     "name": "stderr",
     "output_type": "stream",
     "text": [
      "avg, min h: 503.68, 13.11: 100%|███████████████████████████████████████████████████| 6/6 [00:48<00:00,  8.01s/it]\n",
      "  0%|                                                                                      | 0/6 [00:00<?, ?it/s]"
     ]
    },
    {
     "name": "stdout",
     "output_type": "stream",
     "text": [
      "[1.01990744e+10 1.11165655e+10 1.01495225e+10 1.04666169e+10\n",
      " 1.14579008e+10 1.11207471e+10]\n"
     ]
    },
    {
     "name": "stderr",
     "output_type": "stream",
     "text": [
      "avg, min h: 503.67, 13.10: 100%|███████████████████████████████████████████████████| 6/6 [00:48<00:00,  8.09s/it]\n",
      "  0%|                                                                                      | 0/6 [00:00<?, ?it/s]"
     ]
    },
    {
     "name": "stdout",
     "output_type": "stream",
     "text": [
      "[9.11372049e+09 1.04254453e+10 9.91366932e+09 1.09700987e+10\n",
      " 1.00934540e+10 8.72080167e+09]\n"
     ]
    },
    {
     "name": "stderr",
     "output_type": "stream",
     "text": [
      "avg, min h: 503.67, 13.12: 100%|███████████████████████████████████████████████████| 6/6 [00:48<00:00,  8.05s/it]\n",
      "  0%|                                                                                      | 0/6 [00:00<?, ?it/s]"
     ]
    },
    {
     "name": "stdout",
     "output_type": "stream",
     "text": [
      "[9.40500068e+09 1.08526090e+10 1.02901379e+10 9.45728382e+09\n",
      " 9.45646036e+09 8.45704354e+09]\n"
     ]
    },
    {
     "name": "stderr",
     "output_type": "stream",
     "text": [
      "avg, min h: 503.67, 13.14: 100%|███████████████████████████████████████████████████| 6/6 [00:45<00:00,  7.63s/it]\n",
      "  0%|                                                                                      | 0/6 [00:00<?, ?it/s]"
     ]
    },
    {
     "name": "stdout",
     "output_type": "stream",
     "text": [
      "[9.84080220e+09 7.73055818e+09 8.51979770e+09 9.91606226e+09\n",
      " 1.03994460e+10 9.23142484e+09]\n"
     ]
    },
    {
     "name": "stderr",
     "output_type": "stream",
     "text": [
      "avg, min h: 503.67, 13.16: 100%|███████████████████████████████████████████████████| 6/6 [00:47<00:00,  7.85s/it]\n",
      "  0%|                                                                                      | 0/6 [00:00<?, ?it/s]"
     ]
    },
    {
     "name": "stdout",
     "output_type": "stream",
     "text": [
      "[1.00725141e+10 9.72528689e+09 9.95435224e+09 9.58234591e+09\n",
      " 8.94975734e+09 1.00164827e+10]\n"
     ]
    },
    {
     "name": "stderr",
     "output_type": "stream",
     "text": [
      "avg, min h: 503.67, 13.18: 100%|███████████████████████████████████████████████████| 6/6 [00:45<00:00,  7.67s/it]\n",
      "  0%|                                                                                      | 0/6 [00:00<?, ?it/s]"
     ]
    },
    {
     "name": "stdout",
     "output_type": "stream",
     "text": [
      "[1.03044918e+10 1.00483018e+10 9.05157325e+09 7.16635156e+09\n",
      " 8.99776283e+09 9.20143934e+09]\n"
     ]
    },
    {
     "name": "stderr",
     "output_type": "stream",
     "text": [
      "avg, min h: 503.68, 13.20: 100%|███████████████████████████████████████████████████| 6/6 [00:47<00:00,  7.95s/it]\n",
      "  0%|                                                                                      | 0/6 [00:00<?, ?it/s]"
     ]
    },
    {
     "name": "stdout",
     "output_type": "stream",
     "text": [
      "[7.51913952e+09 8.59014427e+09 8.89616008e+09 1.00327400e+10\n",
      " 8.32123163e+09 8.90396635e+09]\n"
     ]
    },
    {
     "name": "stderr",
     "output_type": "stream",
     "text": [
      "avg, min h: 503.68, 13.23: 100%|███████████████████████████████████████████████████| 6/6 [00:48<00:00,  8.06s/it]\n",
      "  0%|                                                                                      | 0/6 [00:00<?, ?it/s]"
     ]
    },
    {
     "name": "stdout",
     "output_type": "stream",
     "text": [
      "[8.85815987e+09 1.00024768e+10 9.89316590e+09 1.13586884e+10\n",
      " 1.14908011e+10 1.12087571e+10]\n"
     ]
    },
    {
     "name": "stderr",
     "output_type": "stream",
     "text": [
      "avg, min h: 503.68, 13.23: 100%|███████████████████████████████████████████████████| 6/6 [00:44<00:00,  7.48s/it]\n",
      "  0%|                                                                                      | 0/6 [00:00<?, ?it/s]"
     ]
    },
    {
     "name": "stdout",
     "output_type": "stream",
     "text": [
      "[1.08905902e+10 9.42114039e+09 9.73328197e+09 9.33986183e+09\n",
      " 1.02334473e+10 1.18988486e+10]\n"
     ]
    },
    {
     "name": "stderr",
     "output_type": "stream",
     "text": [
      "avg, min h: 503.67, 13.24: 100%|███████████████████████████████████████████████████| 6/6 [00:44<00:00,  7.34s/it]\n",
      "  0%|                                                                                      | 0/6 [00:00<?, ?it/s]"
     ]
    },
    {
     "name": "stdout",
     "output_type": "stream",
     "text": [
      "[1.26646370e+10 1.23125682e+10 1.15511309e+10 1.22939686e+10\n",
      " 1.11136560e+10 1.00441319e+10]\n"
     ]
    },
    {
     "name": "stderr",
     "output_type": "stream",
     "text": [
      "avg, min h: 503.66, 13.22: 100%|███████████████████████████████████████████████████| 6/6 [00:49<00:00,  8.30s/it]\n",
      "  0%|                                                                                      | 0/6 [00:00<?, ?it/s]"
     ]
    },
    {
     "name": "stdout",
     "output_type": "stream",
     "text": [
      "[1.13271179e+10 1.07570218e+10 1.23106246e+10 1.11298583e+10\n",
      " 1.14003646e+10 1.09532793e+10]\n"
     ]
    },
    {
     "name": "stderr",
     "output_type": "stream",
     "text": [
      "avg, min h: 503.66, 13.21: 100%|███████████████████████████████████████████████████| 6/6 [00:40<00:00,  6.67s/it]\n",
      "  0%|                                                                                      | 0/6 [00:00<?, ?it/s]"
     ]
    },
    {
     "name": "stdout",
     "output_type": "stream",
     "text": [
      "[1.30139087e+10 1.03473788e+10 8.07344398e+09 8.86094075e+09\n",
      " 1.05258542e+10 1.00673902e+10]\n"
     ]
    },
    {
     "name": "stderr",
     "output_type": "stream",
     "text": [
      "avg, min h: 503.66, 13.21: 100%|███████████████████████████████████████████████████| 6/6 [00:42<00:00,  7.11s/it]\n",
      "  0%|                                                                                      | 0/6 [00:00<?, ?it/s]"
     ]
    },
    {
     "name": "stdout",
     "output_type": "stream",
     "text": [
      "[8.89881457e+09 1.13957981e+10 1.02503072e+10 9.58988406e+09\n",
      " 9.43187651e+09 9.01200940e+09]\n"
     ]
    },
    {
     "name": "stderr",
     "output_type": "stream",
     "text": [
      "avg, min h: 503.66, 13.23: 100%|███████████████████████████████████████████████████| 6/6 [00:40<00:00,  6.71s/it]\n",
      "  0%|                                                                                      | 0/6 [00:00<?, ?it/s]"
     ]
    },
    {
     "name": "stdout",
     "output_type": "stream",
     "text": [
      "[8.47819470e+09 6.86231054e+09 7.71758351e+09 9.86974071e+09\n",
      " 7.97676103e+09 9.20274949e+09]\n"
     ]
    },
    {
     "name": "stderr",
     "output_type": "stream",
     "text": [
      "avg, min h: 503.66, 13.27: 100%|███████████████████████████████████████████████████| 6/6 [00:43<00:00,  7.27s/it]\n",
      "  0%|                                                                                      | 0/6 [00:00<?, ?it/s]"
     ]
    },
    {
     "name": "stdout",
     "output_type": "stream",
     "text": [
      "[8.19269668e+09 1.04663829e+10 9.76439809e+09 9.78153900e+09\n",
      " 1.11272774e+10 8.86309139e+09]\n"
     ]
    },
    {
     "name": "stderr",
     "output_type": "stream",
     "text": [
      "avg, min h: 503.67, 13.29: 100%|███████████████████████████████████████████████████| 6/6 [00:47<00:00,  7.84s/it]\n",
      "  0%|                                                                                      | 0/6 [00:00<?, ?it/s]"
     ]
    },
    {
     "name": "stdout",
     "output_type": "stream",
     "text": [
      "[7.15293762e+09 7.60277461e+09 7.70160710e+09 6.50982079e+09\n",
      " 7.45412492e+09 6.61260604e+09]\n"
     ]
    },
    {
     "name": "stderr",
     "output_type": "stream",
     "text": [
      "avg, min h: 503.68, 13.36: 100%|███████████████████████████████████████████████████| 6/6 [00:45<00:00,  7.62s/it]\n",
      "  0%|                                                                                      | 0/6 [00:00<?, ?it/s]"
     ]
    },
    {
     "name": "stdout",
     "output_type": "stream",
     "text": [
      "[6.86125010e+09 7.29304138e+09 7.76068127e+09 8.13562282e+09\n",
      " 8.93146830e+09 9.01343809e+09]\n"
     ]
    },
    {
     "name": "stderr",
     "output_type": "stream",
     "text": [
      "avg, min h: 503.69, 13.41: 100%|███████████████████████████████████████████████████| 6/6 [00:43<00:00,  7.21s/it]\n",
      "  0%|                                                                                      | 0/6 [00:00<?, ?it/s]"
     ]
    },
    {
     "name": "stdout",
     "output_type": "stream",
     "text": [
      "[9.71927800e+09 1.09264419e+10 1.12547576e+10 1.13879367e+10\n",
      " 1.12432212e+10 1.02632599e+10]\n"
     ]
    },
    {
     "name": "stderr",
     "output_type": "stream",
     "text": [
      "avg, min h: 503.68, 13.41: 100%|███████████████████████████████████████████████████| 6/6 [00:45<00:00,  7.64s/it]\n",
      "  0%|                                                                                      | 0/6 [00:00<?, ?it/s]"
     ]
    },
    {
     "name": "stdout",
     "output_type": "stream",
     "text": [
      "[8.72041814e+09 8.81906694e+09 9.20233843e+09 1.09855299e+10\n",
      " 8.51561659e+09 6.06056385e+09]\n"
     ]
    },
    {
     "name": "stderr",
     "output_type": "stream",
     "text": [
      "avg, min h: 503.69, 13.46: 100%|███████████████████████████████████████████████████| 6/6 [00:49<00:00,  8.24s/it]\n",
      "  0%|                                                                                      | 0/6 [00:00<?, ?it/s]"
     ]
    },
    {
     "name": "stdout",
     "output_type": "stream",
     "text": [
      "[7.68057304e+09 8.73972257e+09 7.77451581e+09 7.58376788e+09\n",
      " 9.39223692e+09 8.89211109e+09]\n"
     ]
    },
    {
     "name": "stderr",
     "output_type": "stream",
     "text": [
      "avg, min h: 503.70, 13.50: 100%|███████████████████████████████████████████████████| 6/6 [00:40<00:00,  6.74s/it]\n",
      "  0%|                                                                                      | 0/6 [00:00<?, ?it/s]"
     ]
    },
    {
     "name": "stdout",
     "output_type": "stream",
     "text": [
      "[1.04237483e+10 1.02184206e+10 1.02967769e+10 1.03984316e+10\n",
      " 8.67102994e+09 8.79082140e+09]\n"
     ]
    },
    {
     "name": "stderr",
     "output_type": "stream",
     "text": [
      "avg, min h: 503.70, 13.52: 100%|███████████████████████████████████████████████████| 6/6 [00:46<00:00,  7.70s/it]\n",
      "  0%|                                                                                      | 0/6 [00:00<?, ?it/s]"
     ]
    },
    {
     "name": "stdout",
     "output_type": "stream",
     "text": [
      "[9.95173586e+09 1.07809168e+10 1.06332543e+10 8.77202159e+09\n",
      " 1.00555009e+10 1.25652415e+10]\n"
     ]
    },
    {
     "name": "stderr",
     "output_type": "stream",
     "text": [
      "avg, min h: 503.70, 13.52: 100%|███████████████████████████████████████████████████| 6/6 [00:42<00:00,  7.08s/it]\n",
      "  0%|                                                                                      | 0/6 [00:00<?, ?it/s]"
     ]
    },
    {
     "name": "stdout",
     "output_type": "stream",
     "text": [
      "[1.04495444e+10 8.87617332e+09 8.46361525e+09 8.33268115e+09\n",
      " 9.70243167e+09 1.09578755e+10]\n"
     ]
    },
    {
     "name": "stderr",
     "output_type": "stream",
     "text": [
      "avg, min h: 503.70, 13.55: 100%|███████████████████████████████████████████████████| 6/6 [00:47<00:00,  7.95s/it]\n",
      "  0%|                                                                                      | 0/6 [00:00<?, ?it/s]"
     ]
    },
    {
     "name": "stdout",
     "output_type": "stream",
     "text": [
      "[1.04500410e+10 8.50771927e+09 9.08643482e+09 1.00394103e+10\n",
      " 1.08533660e+10 9.94666345e+09]\n"
     ]
    },
    {
     "name": "stderr",
     "output_type": "stream",
     "text": [
      "avg, min h: 503.70, 13.56: 100%|███████████████████████████████████████████████████| 6/6 [00:48<00:00,  8.10s/it]\n",
      "  0%|                                                                                      | 0/6 [00:00<?, ?it/s]"
     ]
    },
    {
     "name": "stdout",
     "output_type": "stream",
     "text": [
      "[9.50887004e+09 9.72484983e+09 9.40864627e+09 7.19451318e+09\n",
      " 7.76815028e+09 7.53895544e+09]\n"
     ]
    },
    {
     "name": "stderr",
     "output_type": "stream",
     "text": [
      "avg, min h: 503.71, 13.60: 100%|███████████████████████████████████████████████████| 6/6 [00:48<00:00,  8.08s/it]\n",
      "  0%|                                                                                      | 0/6 [00:00<?, ?it/s]"
     ]
    },
    {
     "name": "stdout",
     "output_type": "stream",
     "text": [
      "[9.80654599e+09 8.72173703e+09 8.59142957e+09 8.83361801e+09\n",
      " 9.29881084e+09 9.30079830e+09]\n"
     ]
    },
    {
     "name": "stderr",
     "output_type": "stream",
     "text": [
      "avg, min h: 503.72, 13.64: 100%|███████████████████████████████████████████████████| 6/6 [00:46<00:00,  7.67s/it]\n",
      "  0%|                                                                                      | 0/6 [00:00<?, ?it/s]"
     ]
    },
    {
     "name": "stdout",
     "output_type": "stream",
     "text": [
      "[9.40523707e+09 9.03247240e+09 8.31161338e+09 1.04147307e+10\n",
      " 9.47020505e+09 1.03406147e+10]\n"
     ]
    },
    {
     "name": "stderr",
     "output_type": "stream",
     "text": [
      "avg, min h: 503.72, 13.66: 100%|███████████████████████████████████████████████████| 6/6 [00:43<00:00,  7.31s/it]\n",
      "  0%|                                                                                      | 0/6 [00:00<?, ?it/s]"
     ]
    },
    {
     "name": "stdout",
     "output_type": "stream",
     "text": [
      "[1.10286297e+10 8.31500545e+09 9.52789639e+09 7.86846452e+09\n",
      " 8.73134286e+09 8.94630771e+09]\n"
     ]
    },
    {
     "name": "stderr",
     "output_type": "stream",
     "text": [
      "avg, min h: 503.72, 13.69: 100%|███████████████████████████████████████████████████| 6/6 [00:45<00:00,  7.65s/it]\n",
      "  0%|                                                                                      | 0/6 [00:00<?, ?it/s]"
     ]
    },
    {
     "name": "stdout",
     "output_type": "stream",
     "text": [
      "[9.80783159e+09 9.71833299e+09 8.64408609e+09 9.42274388e+09\n",
      " 8.82966232e+09 8.71165460e+09]\n"
     ]
    },
    {
     "name": "stderr",
     "output_type": "stream",
     "text": [
      "avg, min h: 503.73, 13.73: 100%|███████████████████████████████████████████████████| 6/6 [00:45<00:00,  7.58s/it]\n",
      "  0%|                                                                                      | 0/6 [00:00<?, ?it/s]"
     ]
    },
    {
     "name": "stdout",
     "output_type": "stream",
     "text": [
      "[8.37570093e+09 9.03035099e+09 9.78513779e+09 9.40387577e+09\n",
      " 1.04613586e+10 1.02220974e+10]\n"
     ]
    },
    {
     "name": "stderr",
     "output_type": "stream",
     "text": [
      "avg, min h: 503.73, 13.75: 100%|███████████████████████████████████████████████████| 6/6 [00:48<00:00,  8.07s/it]\n",
      "  0%|                                                                                      | 0/6 [00:00<?, ?it/s]"
     ]
    },
    {
     "name": "stdout",
     "output_type": "stream",
     "text": [
      "[1.07062141e+10 1.04425387e+10 1.09034715e+10 1.10438176e+10\n",
      " 9.19115422e+09 8.09258811e+09]\n"
     ]
    },
    {
     "name": "stderr",
     "output_type": "stream",
     "text": [
      "avg, min h: 503.73, 13.77: 100%|███████████████████████████████████████████████████| 6/6 [00:44<00:00,  7.50s/it]\n",
      "  0%|                                                                                      | 0/6 [00:00<?, ?it/s]"
     ]
    },
    {
     "name": "stdout",
     "output_type": "stream",
     "text": [
      "[7.95893999e+09 7.68957679e+09 7.93255977e+09 1.12148071e+10\n",
      " 9.77914802e+09 9.25440296e+09]\n"
     ]
    },
    {
     "name": "stderr",
     "output_type": "stream",
     "text": [
      "avg, min h: 503.74, 13.81: 100%|███████████████████████████████████████████████████| 6/6 [00:48<00:00,  8.07s/it]\n",
      "  0%|                                                                                      | 0/6 [00:00<?, ?it/s]"
     ]
    },
    {
     "name": "stdout",
     "output_type": "stream",
     "text": [
      "[9.98821257e+09 6.90184192e+09 8.02968419e+09 8.68867252e+09\n",
      " 8.48600346e+09 8.98529946e+09]\n"
     ]
    },
    {
     "name": "stderr",
     "output_type": "stream",
     "text": [
      "avg, min h: 503.75, 13.86: 100%|███████████████████████████████████████████████████| 6/6 [00:45<00:00,  7.61s/it]\n",
      "  0%|                                                                                      | 0/6 [00:00<?, ?it/s]"
     ]
    },
    {
     "name": "stdout",
     "output_type": "stream",
     "text": [
      "[8.90570217e+09 9.25498898e+09 1.07995116e+10 1.03798283e+10\n",
      " 1.08752500e+10 1.00646230e+10]\n"
     ]
    },
    {
     "name": "stderr",
     "output_type": "stream",
     "text": [
      "avg, min h: 503.75, 13.88: 100%|███████████████████████████████████████████████████| 6/6 [00:48<00:00,  8.03s/it]\n",
      "  0%|                                                                                      | 0/6 [00:00<?, ?it/s]"
     ]
    },
    {
     "name": "stdout",
     "output_type": "stream",
     "text": [
      "[1.04360949e+10 1.05246688e+10 9.90104586e+09 9.69518444e+09\n",
      " 8.42311684e+09 8.28227488e+09]\n"
     ]
    },
    {
     "name": "stderr",
     "output_type": "stream",
     "text": [
      "avg, min h: 503.75, 13.91: 100%|███████████████████████████████████████████████████| 6/6 [00:45<00:00,  7.64s/it]\n",
      "  0%|                                                                                      | 0/6 [00:00<?, ?it/s]"
     ]
    },
    {
     "name": "stdout",
     "output_type": "stream",
     "text": [
      "[8.74268802e+09 9.87071397e+09 9.36889328e+09 8.97201492e+09\n",
      " 9.83546255e+09 8.94540758e+09]\n"
     ]
    },
    {
     "name": "stderr",
     "output_type": "stream",
     "text": [
      "avg, min h: 503.76, 13.94: 100%|███████████████████████████████████████████████████| 6/6 [00:46<00:00,  7.75s/it]\n",
      "  0%|                                                                                      | 0/6 [00:00<?, ?it/s]"
     ]
    },
    {
     "name": "stdout",
     "output_type": "stream",
     "text": [
      "[9.95805015e+09 1.00151317e+10 1.01713404e+10 1.05058518e+10\n",
      " 8.12685339e+09 8.59792379e+09]\n"
     ]
    },
    {
     "name": "stderr",
     "output_type": "stream",
     "text": [
      "avg, min h: 503.76, 13.97: 100%|███████████████████████████████████████████████████| 6/6 [00:47<00:00,  7.85s/it]\n",
      "  0%|                                                                                      | 0/6 [00:00<?, ?it/s]"
     ]
    },
    {
     "name": "stdout",
     "output_type": "stream",
     "text": [
      "[8.31861444e+09 7.78521755e+09 8.83615478e+09 7.85966580e+09\n",
      " 7.06324176e+09 7.79644532e+09]\n"
     ]
    },
    {
     "name": "stderr",
     "output_type": "stream",
     "text": [
      "avg, min h: 503.77, 14.02: 100%|███████████████████████████████████████████████████| 6/6 [00:45<00:00,  7.60s/it]\n",
      "  0%|                                                                                      | 0/6 [00:00<?, ?it/s]"
     ]
    },
    {
     "name": "stdout",
     "output_type": "stream",
     "text": [
      "[6.99317220e+09 7.12038527e+09 8.25331527e+09 8.62149461e+09\n",
      " 8.30798787e+09 8.08877490e+09]\n"
     ]
    },
    {
     "name": "stderr",
     "output_type": "stream",
     "text": [
      "avg, min h: 503.78, 14.08: 100%|███████████████████████████████████████████████████| 6/6 [00:48<00:00,  8.03s/it]\n",
      "  0%|                                                                                      | 0/6 [00:00<?, ?it/s]"
     ]
    },
    {
     "name": "stdout",
     "output_type": "stream",
     "text": [
      "[9.23813332e+09 7.14272629e+09 9.41952538e+09 8.52975684e+09\n",
      " 8.29571936e+09 8.97322937e+09]\n"
     ]
    },
    {
     "name": "stderr",
     "output_type": "stream",
     "text": [
      "avg, min h: 503.79, 14.12: 100%|███████████████████████████████████████████████████| 6/6 [00:47<00:00,  7.94s/it]\n",
      "  0%|                                                                                      | 0/6 [00:00<?, ?it/s]"
     ]
    },
    {
     "name": "stdout",
     "output_type": "stream",
     "text": [
      "[7.54867315e+09 8.80053959e+09 7.94831533e+09 8.59817685e+09\n",
      " 9.24575427e+09 9.32652270e+09]\n"
     ]
    },
    {
     "name": "stderr",
     "output_type": "stream",
     "text": [
      "avg, min h: 503.80, 14.17: 100%|███████████████████████████████████████████████████| 6/6 [00:48<00:00,  8.00s/it]\n",
      "  0%|                                                                                      | 0/6 [00:00<?, ?it/s]"
     ]
    },
    {
     "name": "stdout",
     "output_type": "stream",
     "text": [
      "[7.70604407e+09 6.52878268e+09 8.43514791e+09 1.02407561e+10\n",
      " 9.83413467e+09 9.21045517e+09]\n"
     ]
    },
    {
     "name": "stderr",
     "output_type": "stream",
     "text": [
      "avg, min h: 503.81, 14.21: 100%|███████████████████████████████████████████████████| 6/6 [00:45<00:00,  7.64s/it]\n",
      "  0%|                                                                                      | 0/6 [00:00<?, ?it/s]"
     ]
    },
    {
     "name": "stdout",
     "output_type": "stream",
     "text": [
      "[8.34048131e+09 9.43870338e+09 8.56533503e+09 9.33752262e+09\n",
      " 7.83064215e+09 7.69050117e+09]\n"
     ]
    },
    {
     "name": "stderr",
     "output_type": "stream",
     "text": [
      "avg, min h: 503.81, 14.26: 100%|███████████████████████████████████████████████████| 6/6 [00:41<00:00,  6.87s/it]\n",
      "  0%|                                                                                      | 0/6 [00:00<?, ?it/s]"
     ]
    },
    {
     "name": "stdout",
     "output_type": "stream",
     "text": [
      "[7.74201655e+09 7.71712036e+09 8.13596556e+09 7.42366650e+09\n",
      " 8.54613456e+09 9.39340032e+09]\n"
     ]
    },
    {
     "name": "stderr",
     "output_type": "stream",
     "text": [
      "avg, min h: 503.82, 14.32: 100%|███████████████████████████████████████████████████| 6/6 [00:46<00:00,  7.80s/it]\n",
      "  0%|                                                                                      | 0/6 [00:00<?, ?it/s]"
     ]
    },
    {
     "name": "stdout",
     "output_type": "stream",
     "text": [
      "[8.52800292e+09 6.62183142e+09 6.72051608e+09 8.39462232e+09\n",
      " 7.68899987e+09 7.87840847e+09]\n"
     ]
    },
    {
     "name": "stderr",
     "output_type": "stream",
     "text": [
      "avg, min h: 503.84, 14.38: 100%|███████████████████████████████████████████████████| 6/6 [00:42<00:00,  7.01s/it]\n",
      "  0%|                                                                                      | 0/6 [00:00<?, ?it/s]"
     ]
    },
    {
     "name": "stdout",
     "output_type": "stream",
     "text": [
      "[9.18665599e+09 7.19851781e+09 7.26851001e+09 8.46956097e+09\n",
      " 7.74140570e+09 7.77288524e+09]\n"
     ]
    },
    {
     "name": "stderr",
     "output_type": "stream",
     "text": [
      "avg, min h: 503.85, 14.45: 100%|███████████████████████████████████████████████████| 6/6 [00:48<00:00,  8.09s/it]\n",
      "  0%|                                                                                      | 0/6 [00:00<?, ?it/s]"
     ]
    },
    {
     "name": "stdout",
     "output_type": "stream",
     "text": [
      "[8.45166771e+09 7.49810335e+09 7.03993129e+09 7.74550479e+09\n",
      " 7.28235154e+09 7.65288599e+09]\n"
     ]
    },
    {
     "name": "stderr",
     "output_type": "stream",
     "text": [
      "avg, min h: 503.86, 14.51: 100%|███████████████████████████████████████████████████| 6/6 [00:45<00:00,  7.52s/it]\n",
      "  0%|                                                                                      | 0/6 [00:00<?, ?it/s]"
     ]
    },
    {
     "name": "stdout",
     "output_type": "stream",
     "text": [
      "[8.68571630e+09 8.29351610e+09 8.88554795e+09 1.00048211e+10\n",
      " 1.04487498e+10 1.06170990e+10]\n"
     ]
    },
    {
     "name": "stderr",
     "output_type": "stream",
     "text": [
      "avg, min h: 503.87, 14.55: 100%|███████████████████████████████████████████████████| 6/6 [00:48<00:00,  8.16s/it]\n",
      "  0%|                                                                                      | 0/6 [00:00<?, ?it/s]"
     ]
    },
    {
     "name": "stdout",
     "output_type": "stream",
     "text": [
      "[9.82478050e+09 1.02699112e+10 1.00614207e+10 1.02845719e+10\n",
      " 9.37066362e+09 9.19495413e+09]\n"
     ]
    },
    {
     "name": "stderr",
     "output_type": "stream",
     "text": [
      "avg, min h: 503.87, 14.58: 100%|███████████████████████████████████████████████████| 6/6 [00:46<00:00,  7.71s/it]\n",
      "  0%|                                                                                      | 0/6 [00:00<?, ?it/s]"
     ]
    },
    {
     "name": "stdout",
     "output_type": "stream",
     "text": [
      "[1.02953377e+10 1.12275021e+10 1.22821793e+10 1.11992655e+10\n",
      " 9.12040225e+09 1.13849749e+10]\n"
     ]
    },
    {
     "name": "stderr",
     "output_type": "stream",
     "text": [
      "avg, min h: 503.87, 14.60: 100%|███████████████████████████████████████████████████| 6/6 [00:44<00:00,  7.37s/it]\n",
      "  0%|                                                                                      | 0/6 [00:00<?, ?it/s]"
     ]
    },
    {
     "name": "stdout",
     "output_type": "stream",
     "text": [
      "[1.06547842e+10 9.66119540e+09 8.43788639e+09 9.38756063e+09\n",
      " 8.53352218e+09 8.13998328e+09]\n"
     ]
    },
    {
     "name": "stderr",
     "output_type": "stream",
     "text": [
      "avg, min h: 503.87, 14.64: 100%|███████████████████████████████████████████████████| 6/6 [00:46<00:00,  7.73s/it]\n",
      "  0%|                                                                                      | 0/6 [00:00<?, ?it/s]"
     ]
    },
    {
     "name": "stdout",
     "output_type": "stream",
     "text": [
      "[7.44063309e+09 8.15457605e+09 9.75071628e+09 1.01488559e+10\n",
      " 1.03965662e+10 9.58007409e+09]\n"
     ]
    },
    {
     "name": "stderr",
     "output_type": "stream",
     "text": [
      "avg, min h: 503.88, 14.67: 100%|███████████████████████████████████████████████████| 6/6 [00:48<00:00,  8.07s/it]\n",
      "  0%|                                                                                      | 0/6 [00:00<?, ?it/s]"
     ]
    },
    {
     "name": "stdout",
     "output_type": "stream",
     "text": [
      "[9.88851358e+09 1.11232640e+10 1.08376534e+10 1.21330365e+10\n",
      " 1.15289837e+10 1.08460219e+10]\n"
     ]
    },
    {
     "name": "stderr",
     "output_type": "stream",
     "text": [
      "avg, min h: 503.87, 14.68: 100%|███████████████████████████████████████████████████| 6/6 [00:41<00:00,  6.84s/it]\n",
      "  0%|                                                                                      | 0/6 [00:00<?, ?it/s]"
     ]
    },
    {
     "name": "stdout",
     "output_type": "stream",
     "text": [
      "[1.28913166e+10 1.03434722e+10 9.68192724e+09 9.38842070e+09\n",
      " 8.98084594e+09 8.46824082e+09]\n"
     ]
    },
    {
     "name": "stderr",
     "output_type": "stream",
     "text": [
      "avg, min h: 503.88, 14.70: 100%|███████████████████████████████████████████████████| 6/6 [00:44<00:00,  7.44s/it]\n",
      "  0%|                                                                                      | 0/6 [00:00<?, ?it/s]"
     ]
    },
    {
     "name": "stdout",
     "output_type": "stream",
     "text": [
      "[9.98859812e+09 8.99319584e+09 9.40307661e+09 9.40174541e+09\n",
      " 8.56005297e+09 8.42085677e+09]\n"
     ]
    },
    {
     "name": "stderr",
     "output_type": "stream",
     "text": [
      "avg, min h: 503.88, 14.74: 100%|███████████████████████████████████████████████████| 6/6 [00:41<00:00,  6.86s/it]\n",
      "  0%|                                                                                      | 0/6 [00:00<?, ?it/s]"
     ]
    },
    {
     "name": "stdout",
     "output_type": "stream",
     "text": [
      "[8.37220639e+09 8.38592919e+09 9.19935560e+09 9.09960465e+09\n",
      " 9.09727116e+09 8.92900647e+09]\n"
     ]
    },
    {
     "name": "stderr",
     "output_type": "stream",
     "text": [
      "avg, min h: 503.89, 14.79: 100%|███████████████████████████████████████████████████| 6/6 [00:44<00:00,  7.44s/it]\n",
      "  0%|                                                                                      | 0/6 [00:00<?, ?it/s]"
     ]
    },
    {
     "name": "stdout",
     "output_type": "stream",
     "text": [
      "[8.71120499e+09 7.05623931e+09 8.04202264e+09 9.83159875e+09\n",
      " 9.39404310e+09 9.87049556e+09]\n"
     ]
    },
    {
     "name": "stderr",
     "output_type": "stream",
     "text": [
      "avg, min h: 503.90, 14.84: 100%|███████████████████████████████████████████████████| 6/6 [00:42<00:00,  7.00s/it]\n",
      "  0%|                                                                                      | 0/6 [00:00<?, ?it/s]"
     ]
    },
    {
     "name": "stdout",
     "output_type": "stream",
     "text": [
      "[1.17784862e+10 1.17752589e+10 1.11577118e+10 1.02309544e+10\n",
      " 1.14251041e+10 1.05525344e+10]\n"
     ]
    },
    {
     "name": "stderr",
     "output_type": "stream",
     "text": [
      "avg, min h: 503.89, 14.85: 100%|███████████████████████████████████████████████████| 6/6 [00:47<00:00,  7.99s/it]\n",
      "  0%|                                                                                      | 0/6 [00:00<?, ?it/s]"
     ]
    },
    {
     "name": "stdout",
     "output_type": "stream",
     "text": [
      "[1.01794357e+10 8.72690226e+09 9.01753751e+09 8.29042194e+09\n",
      " 8.83688159e+09 1.00413933e+10]\n"
     ]
    },
    {
     "name": "stderr",
     "output_type": "stream",
     "text": [
      "avg, min h: 503.90, 14.89: 100%|███████████████████████████████████████████████████| 6/6 [00:45<00:00,  7.54s/it]\n",
      "  0%|                                                                                      | 0/6 [00:00<?, ?it/s]"
     ]
    },
    {
     "name": "stdout",
     "output_type": "stream",
     "text": [
      "[1.01861848e+10 8.73858127e+09 1.00197750e+10 1.08739243e+10\n",
      " 9.25694589e+09 9.72569450e+09]\n"
     ]
    },
    {
     "name": "stderr",
     "output_type": "stream",
     "text": [
      "avg, min h: 503.90, 14.93: 100%|███████████████████████████████████████████████████| 6/6 [00:42<00:00,  7.06s/it]\n",
      "  0%|                                                                                      | 0/6 [00:00<?, ?it/s]"
     ]
    },
    {
     "name": "stdout",
     "output_type": "stream",
     "text": [
      "[8.90255153e+09 8.29255310e+09 7.20232074e+09 7.59945322e+09\n",
      " 9.29353988e+09 8.88307762e+09]\n"
     ]
    },
    {
     "name": "stderr",
     "output_type": "stream",
     "text": [
      "avg, min h: 503.91, 14.99: 100%|███████████████████████████████████████████████████| 6/6 [00:45<00:00,  7.59s/it]\n",
      "  0%|                                                                                      | 0/6 [00:00<?, ?it/s]"
     ]
    },
    {
     "name": "stdout",
     "output_type": "stream",
     "text": [
      "[9.68898956e+09 1.09251831e+10 1.05384042e+10 9.74477129e+09\n",
      " 8.41027578e+09 9.54444406e+09]\n"
     ]
    },
    {
     "name": "stderr",
     "output_type": "stream",
     "text": [
      "avg, min h: 503.92, 15.03: 100%|███████████████████████████████████████████████████| 6/6 [00:47<00:00,  7.96s/it]\n",
      "  0%|                                                                                      | 0/6 [00:00<?, ?it/s]"
     ]
    },
    {
     "name": "stdout",
     "output_type": "stream",
     "text": [
      "[9.95192972e+09 1.02579914e+10 9.74943265e+09 1.11527965e+10\n",
      " 1.02011832e+10 1.06157898e+10]\n"
     ]
    },
    {
     "name": "stderr",
     "output_type": "stream",
     "text": [
      "avg, min h: 503.92, 15.06: 100%|███████████████████████████████████████████████████| 6/6 [00:47<00:00,  7.87s/it]\n",
      "  0%|                                                                                      | 0/6 [00:00<?, ?it/s]"
     ]
    },
    {
     "name": "stdout",
     "output_type": "stream",
     "text": [
      "[1.02171651e+10 8.97517278e+09 1.23039140e+10 1.18971683e+10\n",
      " 1.16730547e+10 1.10221573e+10]\n"
     ]
    },
    {
     "name": "stderr",
     "output_type": "stream",
     "text": [
      "avg, min h: 503.91, 15.08: 100%|███████████████████████████████████████████████████| 6/6 [00:47<00:00,  7.99s/it]\n",
      "  0%|                                                                                      | 0/6 [00:00<?, ?it/s]"
     ]
    },
    {
     "name": "stdout",
     "output_type": "stream",
     "text": [
      "[1.07927983e+10 9.88103478e+09 9.07310690e+09 7.96503196e+09\n",
      " 8.79931396e+09 9.51787577e+09]\n"
     ]
    },
    {
     "name": "stderr",
     "output_type": "stream",
     "text": [
      "avg, min h: 503.92, 15.11: 100%|███████████████████████████████████████████████████| 6/6 [00:42<00:00,  7.11s/it]\n",
      "  0%|                                                                                      | 0/6 [00:00<?, ?it/s]"
     ]
    },
    {
     "name": "stdout",
     "output_type": "stream",
     "text": [
      "[8.64859698e+09 1.03382301e+10 8.53398055e+09 9.16769811e+09\n",
      " 9.73691930e+09 1.06446829e+10]\n"
     ]
    },
    {
     "name": "stderr",
     "output_type": "stream",
     "text": [
      "avg, min h: 503.92, 15.15: 100%|███████████████████████████████████████████████████| 6/6 [00:40<00:00,  6.69s/it]\n",
      "  0%|                                                                                      | 0/6 [00:00<?, ?it/s]"
     ]
    },
    {
     "name": "stdout",
     "output_type": "stream",
     "text": [
      "[1.03310798e+10 1.03021326e+10 9.03626239e+09 1.07742625e+10\n",
      " 1.07967665e+10 1.08218978e+10]\n"
     ]
    },
    {
     "name": "stderr",
     "output_type": "stream",
     "text": [
      "avg, min h: 503.93, 15.18: 100%|███████████████████████████████████████████████████| 6/6 [00:45<00:00,  7.55s/it]\n",
      "  0%|                                                                                      | 0/6 [00:00<?, ?it/s]"
     ]
    },
    {
     "name": "stdout",
     "output_type": "stream",
     "text": [
      "[1.04002638e+10 1.15873559e+10 1.03506705e+10 1.18385130e+10\n",
      " 1.20638817e+10 1.18563814e+10]\n"
     ]
    },
    {
     "name": "stderr",
     "output_type": "stream",
     "text": [
      "avg, min h: 503.92, 15.18: 100%|███████████████████████████████████████████████████| 6/6 [00:43<00:00,  7.25s/it]\n",
      "  0%|                                                                                      | 0/6 [00:00<?, ?it/s]"
     ]
    },
    {
     "name": "stdout",
     "output_type": "stream",
     "text": [
      "[1.03117899e+10 1.03784667e+10 9.26625048e+09 1.05677063e+10\n",
      " 1.06015843e+10 8.38877707e+09]\n"
     ]
    },
    {
     "name": "stderr",
     "output_type": "stream",
     "text": [
      "avg, min h: 503.92, 15.22: 100%|███████████████████████████████████████████████████| 6/6 [00:45<00:00,  7.50s/it]\n",
      "  0%|                                                                                      | 0/6 [00:00<?, ?it/s]"
     ]
    },
    {
     "name": "stdout",
     "output_type": "stream",
     "text": [
      "[8.72509633e+09 8.46820860e+09 9.16430160e+09 9.70436388e+09\n",
      " 9.96486925e+09 9.25036511e+09]\n"
     ]
    },
    {
     "name": "stderr",
     "output_type": "stream",
     "text": [
      "avg, min h: 503.93, 15.27: 100%|███████████████████████████████████████████████████| 6/6 [00:46<00:00,  7.79s/it]\n",
      "  0%|                                                                                      | 0/6 [00:00<?, ?it/s]"
     ]
    },
    {
     "name": "stdout",
     "output_type": "stream",
     "text": [
      "[9.32355821e+09 8.25419249e+09 8.34759580e+09 7.39568004e+09\n",
      " 8.68111841e+09 7.41173429e+09]\n"
     ]
    },
    {
     "name": "stderr",
     "output_type": "stream",
     "text": [
      "avg, min h: 503.94, 15.34: 100%|███████████████████████████████████████████████████| 6/6 [00:47<00:00,  7.89s/it]\n",
      "  0%|                                                                                      | 0/6 [00:00<?, ?it/s]"
     ]
    },
    {
     "name": "stdout",
     "output_type": "stream",
     "text": [
      "[6.46148809e+09 7.63950709e+09 7.75633560e+09 7.97347538e+09\n",
      " 7.31641321e+09 7.87669308e+09]\n"
     ]
    },
    {
     "name": "stderr",
     "output_type": "stream",
     "text": [
      "avg, min h: 503.96, 15.42: 100%|███████████████████████████████████████████████████| 6/6 [00:46<00:00,  7.68s/it]\n",
      "  0%|                                                                                      | 0/6 [00:00<?, ?it/s]"
     ]
    },
    {
     "name": "stdout",
     "output_type": "stream",
     "text": [
      "[7.88098443e+09 7.78247003e+09 9.11698218e+09 8.45757769e+09\n",
      " 8.92931890e+09 7.87536191e+09]\n"
     ]
    },
    {
     "name": "stderr",
     "output_type": "stream",
     "text": [
      "avg, min h: 503.97, 15.48: 100%|███████████████████████████████████████████████████| 6/6 [00:42<00:00,  7.11s/it]\n",
      "  0%|                                                                                      | 0/6 [00:00<?, ?it/s]"
     ]
    },
    {
     "name": "stdout",
     "output_type": "stream",
     "text": [
      "[8.62994824e+09 1.06519220e+10 1.06178085e+10 9.53946411e+09\n",
      " 1.09860900e+10 1.12885415e+10]\n"
     ]
    },
    {
     "name": "stderr",
     "output_type": "stream",
     "text": [
      "avg, min h: 503.97, 15.50: 100%|███████████████████████████████████████████████████| 6/6 [00:42<00:00,  7.09s/it]\n",
      "  0%|                                                                                      | 0/6 [00:00<?, ?it/s]"
     ]
    },
    {
     "name": "stdout",
     "output_type": "stream",
     "text": [
      "[1.22663922e+10 1.13399385e+10 1.11323917e+10 1.11930877e+10\n",
      " 1.14660528e+10 1.21983579e+10]\n"
     ]
    },
    {
     "name": "stderr",
     "output_type": "stream",
     "text": [
      "avg, min h: 503.96, 15.50: 100%|███████████████████████████████████████████████████| 6/6 [00:44<00:00,  7.36s/it]\n",
      "  0%|                                                                                      | 0/6 [00:00<?, ?it/s]"
     ]
    },
    {
     "name": "stdout",
     "output_type": "stream",
     "text": [
      "[1.09387054e+10 1.02157993e+10 1.00017658e+10 9.07202411e+09\n",
      " 8.76649254e+09 9.68592323e+09]\n"
     ]
    },
    {
     "name": "stderr",
     "output_type": "stream",
     "text": [
      "avg, min h: 503.97, 15.53: 100%|███████████████████████████████████████████████████| 6/6 [00:45<00:00,  7.54s/it]\n",
      "  0%|                                                                                      | 0/6 [00:00<?, ?it/s]"
     ]
    },
    {
     "name": "stdout",
     "output_type": "stream",
     "text": [
      "[9.23874510e+09 9.81199029e+09 1.24662991e+10 1.18413715e+10\n",
      " 1.18741567e+10 1.14310065e+10]\n"
     ]
    },
    {
     "name": "stderr",
     "output_type": "stream",
     "text": [
      "avg, min h: 503.96, 15.54: 100%|███████████████████████████████████████████████████| 6/6 [00:44<00:00,  7.41s/it]\n",
      "  0%|                                                                                      | 0/6 [00:00<?, ?it/s]"
     ]
    },
    {
     "name": "stdout",
     "output_type": "stream",
     "text": [
      "[1.10430788e+10 1.26951603e+10 1.14483565e+10 1.16487799e+10\n",
      " 1.21386842e+10 1.35270668e+10]\n"
     ]
    },
    {
     "name": "stderr",
     "output_type": "stream",
     "text": [
      "avg, min h: 503.96, 15.53: 100%|███████████████████████████████████████████████████| 6/6 [00:42<00:00,  7.06s/it]\n",
      "  0%|                                                                                      | 0/6 [00:00<?, ?it/s]"
     ]
    },
    {
     "name": "stdout",
     "output_type": "stream",
     "text": [
      "[1.29513188e+10 1.12790476e+10 1.00906132e+10 1.11215074e+10\n",
      " 1.09562236e+10 1.09600940e+10]\n"
     ]
    },
    {
     "name": "stderr",
     "output_type": "stream",
     "text": [
      "avg, min h: 503.95, 15.54: 100%|███████████████████████████████████████████████████| 6/6 [00:40<00:00,  6.80s/it]\n",
      "  0%|                                                                                      | 0/6 [00:00<?, ?it/s]"
     ]
    },
    {
     "name": "stdout",
     "output_type": "stream",
     "text": [
      "[1.23168584e+10 1.21457040e+10 1.25378589e+10 1.19693092e+10\n",
      " 1.14331663e+10 1.05347055e+10]\n"
     ]
    },
    {
     "name": "stderr",
     "output_type": "stream",
     "text": [
      "avg, min h: 503.95, 15.55: 100%|███████████████████████████████████████████████████| 6/6 [00:40<00:00,  6.71s/it]\n",
      "  0%|                                                                                      | 0/6 [00:00<?, ?it/s]"
     ]
    },
    {
     "name": "stdout",
     "output_type": "stream",
     "text": [
      "[1.20248550e+10 1.22520163e+10 1.25574373e+10 1.07906514e+10\n",
      " 1.06562893e+10 1.09742662e+10]\n"
     ]
    },
    {
     "name": "stderr",
     "output_type": "stream",
     "text": [
      "avg, min h: 503.94, 15.55: 100%|███████████████████████████████████████████████████| 6/6 [00:46<00:00,  7.82s/it]\n",
      "  0%|                                                                                      | 0/6 [00:00<?, ?it/s]"
     ]
    },
    {
     "name": "stdout",
     "output_type": "stream",
     "text": [
      "[1.02341152e+10 1.25742888e+10 1.20927647e+10 1.05863777e+10\n",
      " 9.50966719e+09 9.72597415e+09]\n"
     ]
    },
    {
     "name": "stderr",
     "output_type": "stream",
     "text": [
      "avg, min h: 503.94, 15.58: 100%|███████████████████████████████████████████████████| 6/6 [00:40<00:00,  6.82s/it]\n",
      "  0%|                                                                                      | 0/6 [00:00<?, ?it/s]"
     ]
    },
    {
     "name": "stdout",
     "output_type": "stream",
     "text": [
      "[9.76821560e+09 9.83803977e+09 9.93884816e+09 8.92993668e+09\n",
      " 9.84063581e+09 1.05318563e+10]\n"
     ]
    },
    {
     "name": "stderr",
     "output_type": "stream",
     "text": [
      "avg, min h: 503.95, 15.62: 100%|███████████████████████████████████████████████████| 6/6 [00:41<00:00,  6.85s/it]\n",
      "  0%|                                                                                      | 0/6 [00:00<?, ?it/s]"
     ]
    },
    {
     "name": "stdout",
     "output_type": "stream",
     "text": [
      "[1.06978790e+10 1.06505913e+10 1.09638507e+10 1.16830479e+10\n",
      " 9.99022087e+09 1.09653383e+10]\n"
     ]
    },
    {
     "name": "stderr",
     "output_type": "stream",
     "text": [
      "avg, min h: 503.94, 15.64: 100%|███████████████████████████████████████████████████| 6/6 [00:44<00:00,  7.35s/it]\n",
      "  0%|                                                                                      | 0/6 [00:00<?, ?it/s]"
     ]
    },
    {
     "name": "stdout",
     "output_type": "stream",
     "text": [
      "[1.23158097e+10 1.41879452e+10 1.18852442e+10 1.09388479e+10\n",
      " 1.02989772e+10 1.25856918e+10]\n"
     ]
    },
    {
     "name": "stderr",
     "output_type": "stream",
     "text": [
      "avg, min h: 503.94, 15.63: 100%|███████████████████████████████████████████████████| 6/6 [00:41<00:00,  6.96s/it]\n",
      "  0%|                                                                                      | 0/6 [00:00<?, ?it/s]"
     ]
    },
    {
     "name": "stdout",
     "output_type": "stream",
     "text": [
      "[1.06949787e+10 1.17748891e+10 1.21423505e+10 1.33577456e+10\n",
      " 1.32379769e+10 1.20911737e+10]\n"
     ]
    },
    {
     "name": "stderr",
     "output_type": "stream",
     "text": [
      "avg, min h: 503.93, 15.62: 100%|███████████████████████████████████████████████████| 6/6 [00:44<00:00,  7.38s/it]\n",
      "  0%|                                                                                      | 0/6 [00:00<?, ?it/s]"
     ]
    },
    {
     "name": "stdout",
     "output_type": "stream",
     "text": [
      "[1.18744917e+10 1.34859124e+10 1.43085721e+10 1.32422155e+10\n",
      " 1.29575165e+10 1.34880358e+10]\n"
     ]
    },
    {
     "name": "stderr",
     "output_type": "stream",
     "text": [
      "avg, min h: 503.92, 15.59: 100%|███████████████████████████████████████████████████| 6/6 [00:48<00:00,  8.07s/it]\n",
      "  0%|                                                                                      | 0/6 [00:00<?, ?it/s]"
     ]
    },
    {
     "name": "stdout",
     "output_type": "stream",
     "text": [
      "[1.10808391e+10 1.10493294e+10 1.16482960e+10 1.12564850e+10\n",
      " 1.18402890e+10 1.26881825e+10]\n"
     ]
    },
    {
     "name": "stderr",
     "output_type": "stream",
     "text": [
      "avg, min h: 503.91, 15.59: 100%|███████████████████████████████████████████████████| 6/6 [00:47<00:00,  7.93s/it]\n",
      "  0%|                                                                                      | 0/6 [00:00<?, ?it/s]"
     ]
    },
    {
     "name": "stdout",
     "output_type": "stream",
     "text": [
      "[1.13220850e+10 1.16324846e+10 1.12624613e+10 9.21919885e+09\n",
      " 9.53672119e+09 9.01123496e+09]\n"
     ]
    },
    {
     "name": "stderr",
     "output_type": "stream",
     "text": [
      "avg, min h: 503.91, 15.62: 100%|███████████████████████████████████████████████████| 6/6 [00:43<00:00,  7.24s/it]\n",
      "  0%|                                                                                      | 0/6 [00:00<?, ?it/s]"
     ]
    },
    {
     "name": "stdout",
     "output_type": "stream",
     "text": [
      "[1.00097428e+10 8.40695708e+09 7.59402517e+09 8.69138628e+09\n",
      " 6.78314791e+09 8.57652410e+09]\n"
     ]
    },
    {
     "name": "stderr",
     "output_type": "stream",
     "text": [
      "avg, min h: 503.92, 15.69: 100%|███████████████████████████████████████████████████| 6/6 [00:44<00:00,  7.47s/it]\n",
      "  0%|                                                                                      | 0/6 [00:00<?, ?it/s]"
     ]
    },
    {
     "name": "stdout",
     "output_type": "stream",
     "text": [
      "[9.37397411e+09 8.68043823e+09 9.76100710e+09 9.36391724e+09\n",
      " 9.42446726e+09 8.45193122e+09]\n"
     ]
    },
    {
     "name": "stderr",
     "output_type": "stream",
     "text": [
      "avg, min h: 503.93, 15.74: 100%|███████████████████████████████████████████████████| 6/6 [00:47<00:00,  7.85s/it]\n",
      "  0%|                                                                                      | 0/6 [00:00<?, ?it/s]"
     ]
    },
    {
     "name": "stdout",
     "output_type": "stream",
     "text": [
      "[9.44301841e+09 7.40540122e+09 8.53582536e+09 9.32653255e+09\n",
      " 1.04552797e+10 8.37158801e+09]\n"
     ]
    },
    {
     "name": "stderr",
     "output_type": "stream",
     "text": [
      "avg, min h: 503.94, 15.80: 100%|███████████████████████████████████████████████████| 6/6 [00:44<00:00,  7.34s/it]\n",
      "  0%|                                                                                      | 0/6 [00:00<?, ?it/s]"
     ]
    },
    {
     "name": "stdout",
     "output_type": "stream",
     "text": [
      "[9.95975031e+09 1.00548590e+10 8.94827805e+09 9.55416097e+09\n",
      " 9.02584558e+09 6.57417538e+09]\n"
     ]
    },
    {
     "name": "stderr",
     "output_type": "stream",
     "text": [
      "avg, min h: 503.95, 15.86: 100%|███████████████████████████████████████████████████| 6/6 [00:43<00:00,  7.30s/it]\n",
      "  0%|                                                                                      | 0/6 [00:00<?, ?it/s]"
     ]
    },
    {
     "name": "stdout",
     "output_type": "stream",
     "text": [
      "[8.03609020e+09 9.18599600e+09 1.02447089e+10 9.56925267e+09\n",
      " 1.04652896e+10 1.05668156e+10]\n"
     ]
    },
    {
     "name": "stderr",
     "output_type": "stream",
     "text": [
      "avg, min h: 503.95, 15.91: 100%|███████████████████████████████████████████████████| 6/6 [00:42<00:00,  7.10s/it]\n",
      "  0%|                                                                                      | 0/6 [00:00<?, ?it/s]"
     ]
    },
    {
     "name": "stdout",
     "output_type": "stream",
     "text": [
      "[9.70676904e+09 1.07503256e+10 8.46524531e+09 1.07346187e+10\n",
      " 9.89257332e+09 7.99695517e+09]\n"
     ]
    },
    {
     "name": "stderr",
     "output_type": "stream",
     "text": [
      "avg, min h: 503.96, 15.97: 100%|███████████████████████████████████████████████████| 6/6 [00:45<00:00,  7.53s/it]\n",
      "  0%|                                                                                      | 0/6 [00:00<?, ?it/s]"
     ]
    },
    {
     "name": "stdout",
     "output_type": "stream",
     "text": [
      "[9.72996723e+09 9.80820950e+09 1.03708722e+10 8.89805558e+09\n",
      " 9.15247780e+09 1.14771713e+10]\n"
     ]
    },
    {
     "name": "stderr",
     "output_type": "stream",
     "text": [
      "avg, min h: 503.96, 16.01: 100%|███████████████████████████████████████████████████| 6/6 [00:45<00:00,  7.57s/it]\n",
      "  0%|                                                                                      | 0/6 [00:00<?, ?it/s]"
     ]
    },
    {
     "name": "stdout",
     "output_type": "stream",
     "text": [
      "[9.90827787e+09 1.14379584e+10 1.19078922e+10 1.15837922e+10\n",
      " 1.26660835e+10 1.06276938e+10]\n"
     ]
    },
    {
     "name": "stderr",
     "output_type": "stream",
     "text": [
      "avg, min h: 503.96, 16.01: 100%|███████████████████████████████████████████████████| 6/6 [00:47<00:00,  7.86s/it]\n",
      "  0%|                                                                                      | 0/6 [00:00<?, ?it/s]"
     ]
    },
    {
     "name": "stdout",
     "output_type": "stream",
     "text": [
      "[1.05229021e+10 1.12099011e+10 9.99284153e+09 1.03915711e+10\n",
      " 1.04991249e+10 1.06898499e+10]\n"
     ]
    },
    {
     "name": "stderr",
     "output_type": "stream",
     "text": [
      "avg, min h: 503.96, 16.04: 100%|███████████████████████████████████████████████████| 6/6 [00:40<00:00,  6.80s/it]\n",
      "  0%|                                                                                      | 0/6 [00:00<?, ?it/s]"
     ]
    },
    {
     "name": "stdout",
     "output_type": "stream",
     "text": [
      "[1.16783420e+10 9.43564817e+09 9.98580737e+09 1.26104468e+10\n",
      " 1.22519170e+10 1.19378106e+10]\n"
     ]
    },
    {
     "name": "stderr",
     "output_type": "stream",
     "text": [
      "avg, min h: 503.96, 16.06: 100%|███████████████████████████████████████████████████| 6/6 [00:41<00:00,  6.88s/it]\n",
      "  0%|                                                                                      | 0/6 [00:00<?, ?it/s]"
     ]
    },
    {
     "name": "stdout",
     "output_type": "stream",
     "text": [
      "[1.11178230e+10 1.12423530e+10 1.16307599e+10 1.13367463e+10\n",
      " 1.13148218e+10 1.10667548e+10]\n"
     ]
    },
    {
     "name": "stderr",
     "output_type": "stream",
     "text": [
      "avg, min h: 503.95, 16.07: 100%|███████████████████████████████████████████████████| 6/6 [00:31<00:00,  5.25s/it]\n",
      "  0%|                                                                                      | 0/6 [00:00<?, ?it/s]"
     ]
    },
    {
     "name": "stdout",
     "output_type": "stream",
     "text": [
      "[1.02110599e+10 1.12813345e+10 1.13916142e+10 1.05620521e+10\n",
      " 1.00354308e+10 8.97087497e+09]\n"
     ]
    },
    {
     "name": "stderr",
     "output_type": "stream",
     "text": [
      "avg, min h: 503.95, 16.11: 100%|███████████████████████████████████████████████████| 6/6 [00:35<00:00,  5.85s/it]\n",
      "  0%|                                                                                      | 0/6 [00:00<?, ?it/s]"
     ]
    },
    {
     "name": "stdout",
     "output_type": "stream",
     "text": [
      "[9.20889751e+09 9.08559573e+09 9.42252827e+09 7.42983184e+09\n",
      " 9.55371852e+09 9.54293971e+09]\n"
     ]
    },
    {
     "name": "stderr",
     "output_type": "stream",
     "text": [
      "avg, min h: 503.96, 16.17: 100%|███████████████████████████████████████████████████| 6/6 [00:43<00:00,  7.23s/it]\n",
      "  0%|                                                                                      | 0/6 [00:00<?, ?it/s]"
     ]
    },
    {
     "name": "stdout",
     "output_type": "stream",
     "text": [
      "[1.02857387e+10 9.21238763e+09 1.25731339e+10 1.08751320e+10\n",
      " 1.14010420e+10 1.14357653e+10]\n"
     ]
    },
    {
     "name": "stderr",
     "output_type": "stream",
     "text": [
      "avg, min h: 503.96, 16.20: 100%|███████████████████████████████████████████████████| 6/6 [00:44<00:00,  7.49s/it]\n",
      "  0%|                                                                                      | 0/6 [00:00<?, ?it/s]"
     ]
    },
    {
     "name": "stdout",
     "output_type": "stream",
     "text": [
      "[1.01617958e+10 9.26562895e+09 9.17772174e+09 7.39523478e+09\n",
      " 1.06054984e+10 9.21222588e+09]\n"
     ]
    },
    {
     "name": "stderr",
     "output_type": "stream",
     "text": [
      "avg, min h: 503.97, 16.26: 100%|███████████████████████████████████████████████████| 6/6 [00:44<00:00,  7.43s/it]\n",
      "  0%|                                                                                      | 0/6 [00:00<?, ?it/s]"
     ]
    },
    {
     "name": "stdout",
     "output_type": "stream",
     "text": [
      "[1.00741016e+10 1.01739128e+10 1.08516657e+10 1.07465672e+10\n",
      " 1.16858173e+10 1.22796729e+10]\n"
     ]
    },
    {
     "name": "stderr",
     "output_type": "stream",
     "text": [
      "avg, min h: 503.97, 16.29: 100%|███████████████████████████████████████████████████| 6/6 [00:43<00:00,  7.28s/it]\n",
      "  0%|                                                                                      | 0/6 [00:00<?, ?it/s]"
     ]
    },
    {
     "name": "stdout",
     "output_type": "stream",
     "text": [
      "[1.26828678e+10 1.18954881e+10 1.15294965e+10 1.05006001e+10\n",
      " 1.08685804e+10 9.79773877e+09]\n"
     ]
    },
    {
     "name": "stderr",
     "output_type": "stream",
     "text": [
      "avg, min h: 503.96, 16.33: 100%|███████████████████████████████████████████████████| 6/6 [00:48<00:00,  8.06s/it]\n",
      "  0%|                                                                                      | 0/6 [00:00<?, ?it/s]"
     ]
    },
    {
     "name": "stdout",
     "output_type": "stream",
     "text": [
      "[1.06736085e+10 1.08564273e+10 1.10714026e+10 1.04937585e+10\n",
      " 1.18343685e+10 1.16511526e+10]\n"
     ]
    },
    {
     "name": "stderr",
     "output_type": "stream",
     "text": [
      "avg, min h: 503.96, 16.35: 100%|███████████████████████████████████████████████████| 6/6 [00:44<00:00,  7.35s/it]\n",
      "  0%|                                                                                      | 0/6 [00:00<?, ?it/s]"
     ]
    },
    {
     "name": "stdout",
     "output_type": "stream",
     "text": [
      "[1.14582932e+10 1.13803997e+10 1.08492052e+10 9.28149705e+09\n",
      " 1.02091820e+10 1.07423929e+10]\n"
     ]
    },
    {
     "name": "stderr",
     "output_type": "stream",
     "text": [
      "avg, min h: 503.96, 16.38: 100%|███████████████████████████████████████████████████| 6/6 [00:45<00:00,  7.61s/it]\n",
      "  0%|                                                                                      | 0/6 [00:00<?, ?it/s]"
     ]
    },
    {
     "name": "stdout",
     "output_type": "stream",
     "text": [
      "[8.74362556e+09 9.06084288e+09 8.96811826e+09 9.71491873e+09\n",
      " 7.37301124e+09 6.97697543e+09]\n"
     ]
    },
    {
     "name": "stderr",
     "output_type": "stream",
     "text": [
      "avg, min h: 503.97, 16.45: 100%|███████████████████████████████████████████████████| 6/6 [00:48<00:00,  8.06s/it]\n",
      "  0%|                                                                                      | 0/6 [00:00<?, ?it/s]"
     ]
    },
    {
     "name": "stdout",
     "output_type": "stream",
     "text": [
      "[8.18231213e+09 8.14986470e+09 7.26940538e+09 8.19463722e+09\n",
      " 7.75400292e+09 9.28849584e+09]\n"
     ]
    },
    {
     "name": "stderr",
     "output_type": "stream",
     "text": [
      "avg, min h: 503.99, 16.53: 100%|███████████████████████████████████████████████████| 6/6 [00:49<00:00,  8.33s/it]\n",
      "  0%|                                                                                      | 0/6 [00:00<?, ?it/s]"
     ]
    },
    {
     "name": "stdout",
     "output_type": "stream",
     "text": [
      "[7.12711447e+09 8.69451891e+09 9.96906538e+09 7.72962578e+09\n",
      " 6.88490190e+09 8.52791270e+09]\n"
     ]
    },
    {
     "name": "stderr",
     "output_type": "stream",
     "text": [
      "avg, min h: 504.00, 16.60: 100%|███████████████████████████████████████████████████| 6/6 [00:43<00:00,  7.32s/it]\n",
      "  0%|                                                                                      | 0/6 [00:00<?, ?it/s]"
     ]
    },
    {
     "name": "stdout",
     "output_type": "stream",
     "text": [
      "[7.00458291e+09 7.92155182e+09 8.65491599e+09 6.68485833e+09\n",
      " 8.14703277e+09 3.77564879e+09]\n"
     ]
    },
    {
     "name": "stderr",
     "output_type": "stream",
     "text": [
      "avg, min h: 504.02, 16.71: 100%|███████████████████████████████████████████████████| 6/6 [00:47<00:00,  7.88s/it]\n",
      "  0%|                                                                                      | 0/6 [00:00<?, ?it/s]"
     ]
    },
    {
     "name": "stdout",
     "output_type": "stream",
     "text": [
      "[4.04814106e+09 3.01981916e+09 5.54056745e+09 5.60958911e+09\n",
      " 4.51906943e+09 4.30056042e+09]\n"
     ]
    },
    {
     "name": "stderr",
     "output_type": "stream",
     "text": [
      "avg, min h: 504.05, 16.86: 100%|███████████████████████████████████████████████████| 6/6 [00:42<00:00,  7.02s/it]\n",
      "  0%|                                                                                      | 0/6 [00:00<?, ?it/s]"
     ]
    },
    {
     "name": "stdout",
     "output_type": "stream",
     "text": [
      "[3.99054662e+09 6.04016081e+09 5.30876256e+09 5.02860026e+09\n",
      " 5.27710490e+09 7.47664445e+09]\n"
     ]
    },
    {
     "name": "stderr",
     "output_type": "stream",
     "text": [
      "avg, min h: 504.07, 16.99: 100%|███████████████████████████████████████████████████| 6/6 [00:46<00:00,  7.76s/it]\n",
      "  0%|                                                                                      | 0/6 [00:00<?, ?it/s]"
     ]
    },
    {
     "name": "stdout",
     "output_type": "stream",
     "text": [
      "[6.96935258e+09 5.22106687e+09 5.24020742e+09 5.56458729e+09\n",
      " 4.23783299e+09 4.61514139e+09]\n"
     ]
    },
    {
     "name": "stderr",
     "output_type": "stream",
     "text": [
      "avg, min h: 504.10, 17.13: 100%|███████████████████████████████████████████████████| 6/6 [00:45<00:00,  7.63s/it]\n",
      "  0%|                                                                                      | 0/6 [00:00<?, ?it/s]"
     ]
    },
    {
     "name": "stdout",
     "output_type": "stream",
     "text": [
      "[5.90640253e+09 4.24551437e+09 4.58409442e+09 4.90665798e+09\n",
      " 6.21245866e+09 5.51392138e+09]\n"
     ]
    },
    {
     "name": "stderr",
     "output_type": "stream",
     "text": [
      "avg, min h: 504.12, 17.28: 100%|███████████████████████████████████████████████████| 6/6 [00:47<00:00,  7.86s/it]\n",
      "  0%|                                                                                      | 0/6 [00:00<?, ?it/s]"
     ]
    },
    {
     "name": "stdout",
     "output_type": "stream",
     "text": [
      "[7.35230906e+09 7.92419610e+09 5.07289360e+09 8.90359314e+09\n",
      " 8.46079844e+09 8.86085988e+09]\n"
     ]
    },
    {
     "name": "stderr",
     "output_type": "stream",
     "text": [
      "avg, min h: 504.14, 17.37: 100%|███████████████████████████████████████████████████| 6/6 [00:41<00:00,  6.99s/it]\n",
      "  0%|                                                                                      | 0/6 [00:00<?, ?it/s]"
     ]
    },
    {
     "name": "stdout",
     "output_type": "stream",
     "text": [
      "[8.17627859e+09 7.33460502e+09 6.11766985e+09 8.42114912e+09\n",
      " 8.19645931e+09 7.96268566e+09]\n"
     ]
    },
    {
     "name": "stderr",
     "output_type": "stream",
     "text": [
      "avg, min h: 504.15, 17.46: 100%|███████████████████████████████████████████████████| 6/6 [00:45<00:00,  7.57s/it]\n",
      "  0%|                                                                                      | 0/6 [00:00<?, ?it/s]"
     ]
    },
    {
     "name": "stdout",
     "output_type": "stream",
     "text": [
      "[6.83188572e+09 6.38449128e+09 7.50849073e+09 6.42269933e+09\n",
      " 7.39652218e+09 6.82644039e+09]\n"
     ]
    },
    {
     "name": "stderr",
     "output_type": "stream",
     "text": [
      "avg, min h: 504.17, 17.56: 100%|███████████████████████████████████████████████████| 6/6 [00:45<00:00,  7.57s/it]\n",
      "  0%|                                                                                      | 0/6 [00:00<?, ?it/s]"
     ]
    },
    {
     "name": "stdout",
     "output_type": "stream",
     "text": [
      "[1.00742896e+10 8.48922402e+09 9.24017158e+09 8.77014386e+09\n",
      " 7.16189307e+09 9.38745650e+09]\n"
     ]
    },
    {
     "name": "stderr",
     "output_type": "stream",
     "text": [
      "avg, min h: 504.18, 17.63: 100%|███████████████████████████████████████████████████| 6/6 [00:41<00:00,  6.86s/it]\n",
      "  0%|                                                                                      | 0/6 [00:00<?, ?it/s]"
     ]
    },
    {
     "name": "stdout",
     "output_type": "stream",
     "text": [
      "[9.84779234e+09 1.03586327e+10 1.04033421e+10 1.01404250e+10\n",
      " 9.49164209e+09 1.17136566e+10]\n"
     ]
    },
    {
     "name": "stderr",
     "output_type": "stream",
     "text": [
      "avg, min h: 504.18, 17.68: 100%|███████████████████████████████████████████████████| 6/6 [00:43<00:00,  7.22s/it]\n",
      "  0%|                                                                                      | 0/6 [00:00<?, ?it/s]"
     ]
    },
    {
     "name": "stdout",
     "output_type": "stream",
     "text": [
      "[1.28780897e+10 1.21691982e+10 1.08640559e+10 1.23906685e+10\n",
      " 1.24167528e+10 1.35488063e+10]\n"
     ]
    },
    {
     "name": "stderr",
     "output_type": "stream",
     "text": [
      "avg, min h: 504.17, 17.69: 100%|███████████████████████████████████████████████████| 6/6 [00:40<00:00,  6.71s/it]\n",
      "  0%|                                                                                      | 0/6 [00:00<?, ?it/s]"
     ]
    },
    {
     "name": "stdout",
     "output_type": "stream",
     "text": [
      "[1.20662795e+10 1.28088140e+10 1.23238849e+10 1.13978548e+10\n",
      " 1.19955839e+10 1.04177855e+10]\n"
     ]
    },
    {
     "name": "stderr",
     "output_type": "stream",
     "text": [
      "avg, min h: 504.17, 17.71: 100%|███████████████████████████████████████████████████| 6/6 [00:44<00:00,  7.44s/it]\n",
      "  0%|                                                                                      | 0/6 [00:00<?, ?it/s]"
     ]
    },
    {
     "name": "stdout",
     "output_type": "stream",
     "text": [
      "[1.07704772e+10 1.05640958e+10 9.40348147e+09 1.07713006e+10\n",
      " 9.93726942e+09 1.18041791e+10]\n"
     ]
    },
    {
     "name": "stderr",
     "output_type": "stream",
     "text": [
      "avg, min h: 504.17, 17.76: 100%|███████████████████████████████████████████████████| 6/6 [00:45<00:00,  7.52s/it]\n",
      "  0%|                                                                                      | 0/6 [00:00<?, ?it/s]"
     ]
    },
    {
     "name": "stdout",
     "output_type": "stream",
     "text": [
      "[9.31600537e+09 9.43988188e+09 9.24596280e+09 8.59657026e+09\n",
      " 1.08705207e+10 1.17775622e+10]\n"
     ]
    },
    {
     "name": "stderr",
     "output_type": "stream",
     "text": [
      "avg, min h: 504.17, 17.83: 100%|███████████████████████████████████████████████████| 6/6 [00:45<00:00,  7.63s/it]\n",
      "  0%|                                                                                      | 0/6 [00:00<?, ?it/s]"
     ]
    },
    {
     "name": "stdout",
     "output_type": "stream",
     "text": [
      "[1.02389815e+10 9.22378824e+09 9.73584838e+09 8.73985226e+09\n",
      " 8.67557917e+09 9.40640197e+09]\n"
     ]
    },
    {
     "name": "stderr",
     "output_type": "stream",
     "text": [
      "avg, min h: 504.18, 17.91: 100%|███████████████████████████████████████████████████| 6/6 [00:46<00:00,  7.82s/it]\n",
      "  0%|                                                                                      | 0/6 [00:00<?, ?it/s]"
     ]
    },
    {
     "name": "stdout",
     "output_type": "stream",
     "text": [
      "[1.04796323e+10 1.02479606e+10 1.04954905e+10 8.95916726e+09\n",
      " 1.01844985e+10 8.86177821e+09]\n"
     ]
    },
    {
     "name": "stderr",
     "output_type": "stream",
     "text": [
      "avg, min h: 504.18, 17.97: 100%|███████████████████████████████████████████████████| 6/6 [00:47<00:00,  7.87s/it]\n",
      "  0%|                                                                                      | 0/6 [00:00<?, ?it/s]"
     ]
    },
    {
     "name": "stdout",
     "output_type": "stream",
     "text": [
      "[1.02223008e+10 9.63235388e+09 1.02061323e+10 9.17778436e+09\n",
      " 1.06275499e+10 1.16036306e+10]\n"
     ]
    },
    {
     "name": "stderr",
     "output_type": "stream",
     "text": [
      "avg, min h: 504.18, 18.01: 100%|███████████████████████████████████████████████████| 6/6 [00:44<00:00,  7.38s/it]\n",
      "  0%|                                                                                      | 0/6 [00:00<?, ?it/s]"
     ]
    },
    {
     "name": "stdout",
     "output_type": "stream",
     "text": [
      "[1.17921638e+10 1.32317732e+10 1.24799424e+10 1.21361478e+10\n",
      " 1.39088427e+10 1.42970540e+10]\n"
     ]
    },
    {
     "name": "stderr",
     "output_type": "stream",
     "text": [
      "avg, min h: 504.17, 18.01: 100%|███████████████████████████████████████████████████| 6/6 [00:47<00:00,  7.94s/it]\n",
      "  0%|                                                                                      | 0/6 [00:00<?, ?it/s]"
     ]
    },
    {
     "name": "stdout",
     "output_type": "stream",
     "text": [
      "[1.27968238e+10 1.24627303e+10 1.33901047e+10 1.28813714e+10\n",
      " 1.23186118e+10 1.14800516e+10]\n"
     ]
    },
    {
     "name": "stderr",
     "output_type": "stream",
     "text": [
      "avg, min h: 504.16, 18.02: 100%|███████████████████████████████████████████████████| 6/6 [00:44<00:00,  7.43s/it]\n",
      "  0%|                                                                                      | 0/6 [00:00<?, ?it/s]"
     ]
    },
    {
     "name": "stdout",
     "output_type": "stream",
     "text": [
      "[1.28556602e+10 1.00074983e+10 1.14358128e+10 1.07888620e+10\n",
      " 1.08086508e+10 1.15874281e+10]\n"
     ]
    },
    {
     "name": "stderr",
     "output_type": "stream",
     "text": [
      "avg, min h: 504.16, 18.06: 100%|███████████████████████████████████████████████████| 6/6 [00:43<00:00,  7.19s/it]\n",
      "  0%|                                                                                      | 0/6 [00:00<?, ?it/s]"
     ]
    },
    {
     "name": "stdout",
     "output_type": "stream",
     "text": [
      "[1.03857115e+10 8.83813066e+09 8.34174818e+09 8.85952937e+09\n",
      " 9.13624122e+09 9.80826733e+09]\n"
     ]
    },
    {
     "name": "stderr",
     "output_type": "stream",
     "text": [
      "avg, min h: 504.16, 18.13: 100%|███████████████████████████████████████████████████| 6/6 [00:40<00:00,  6.78s/it]\n",
      "  0%|                                                                                      | 0/6 [00:00<?, ?it/s]"
     ]
    },
    {
     "name": "stdout",
     "output_type": "stream",
     "text": [
      "[9.14808030e+09 8.80883626e+09 9.85832677e+09 9.32738892e+09\n",
      " 1.05062739e+10 9.27634297e+09]\n"
     ]
    },
    {
     "name": "stderr",
     "output_type": "stream",
     "text": [
      "avg, min h: 504.17, 18.20: 100%|███████████████████████████████████████████████████| 6/6 [00:42<00:00,  7.07s/it]\n",
      "  0%|                                                                                      | 0/6 [00:00<?, ?it/s]"
     ]
    },
    {
     "name": "stdout",
     "output_type": "stream",
     "text": [
      "[1.06133779e+10 1.03565178e+10 1.19157489e+10 1.22827980e+10\n",
      " 1.24589403e+10 1.32563881e+10]\n"
     ]
    },
    {
     "name": "stderr",
     "output_type": "stream",
     "text": [
      "avg, min h: 504.17, 18.23: 100%|███████████████████████████████████████████████████| 6/6 [00:39<00:00,  6.59s/it]\n",
      "  0%|                                                                                      | 0/6 [00:00<?, ?it/s]"
     ]
    },
    {
     "name": "stdout",
     "output_type": "stream",
     "text": [
      "[1.43166198e+10 1.40642453e+10 1.36250590e+10 1.38527430e+10\n",
      " 1.39041502e+10 1.36137737e+10]\n"
     ]
    },
    {
     "name": "stderr",
     "output_type": "stream",
     "text": [
      "avg, min h: 504.15, 18.23: 100%|███████████████████████████████████████████████████| 6/6 [00:40<00:00,  6.74s/it]\n",
      "  0%|                                                                                      | 0/6 [00:00<?, ?it/s]"
     ]
    },
    {
     "name": "stdout",
     "output_type": "stream",
     "text": [
      "[1.29970627e+10 1.21552319e+10 1.10271137e+10 1.23818773e+10\n",
      " 1.36582757e+10 1.23921386e+10]\n"
     ]
    },
    {
     "name": "stderr",
     "output_type": "stream",
     "text": [
      "avg, min h: 504.14, 18.26: 100%|███████████████████████████████████████████████████| 6/6 [00:42<00:00,  7.06s/it]\n",
      "  0%|                                                                                      | 0/6 [00:00<?, ?it/s]"
     ]
    },
    {
     "name": "stdout",
     "output_type": "stream",
     "text": [
      "[1.36694304e+10 1.35091443e+10 1.13941155e+10 1.20121438e+10\n",
      " 1.29286852e+10 1.30318513e+10]\n"
     ]
    },
    {
     "name": "stderr",
     "output_type": "stream",
     "text": [
      "avg, min h: 504.13, 18.26: 100%|███████████████████████████████████████████████████| 6/6 [00:45<00:00,  7.51s/it]\n",
      "  0%|                                                                                      | 0/6 [00:00<?, ?it/s]"
     ]
    },
    {
     "name": "stdout",
     "output_type": "stream",
     "text": [
      "[1.24915116e+10 1.20691955e+10 1.16205927e+10 1.27088599e+10\n",
      " 1.24682486e+10 1.29685700e+10]\n"
     ]
    },
    {
     "name": "stderr",
     "output_type": "stream",
     "text": [
      "avg, min h: 504.12, 18.27: 100%|███████████████████████████████████████████████████| 6/6 [00:47<00:00,  7.95s/it]\n",
      "  0%|                                                                                      | 0/6 [00:00<?, ?it/s]"
     ]
    },
    {
     "name": "stdout",
     "output_type": "stream",
     "text": [
      "[1.35157148e+10 1.23867354e+10 1.34452291e+10 1.29634861e+10\n",
      " 1.26243645e+10 1.21589067e+10]\n"
     ]
    },
    {
     "name": "stderr",
     "output_type": "stream",
     "text": [
      "avg, min h: 504.11, 18.28: 100%|███████████████████████████████████████████████████| 6/6 [00:50<00:00,  8.33s/it]\n",
      "  0%|                                                                                      | 0/6 [00:00<?, ?it/s]"
     ]
    },
    {
     "name": "stdout",
     "output_type": "stream",
     "text": [
      "[1.40120803e+10 1.31291727e+10 1.21988967e+10 1.23291085e+10\n",
      " 1.14217773e+10 1.22828592e+10]\n"
     ]
    },
    {
     "name": "stderr",
     "output_type": "stream",
     "text": [
      "avg, min h: 504.10, 18.29: 100%|███████████████████████████████████████████████████| 6/6 [00:49<00:00,  8.21s/it]\n",
      "  0%|                                                                                      | 0/6 [00:00<?, ?it/s]"
     ]
    },
    {
     "name": "stdout",
     "output_type": "stream",
     "text": [
      "[9.96569869e+09 9.87118055e+09 1.08592296e+10 1.05782665e+10\n",
      " 1.07807141e+10 1.11361995e+10]\n"
     ]
    },
    {
     "name": "stderr",
     "output_type": "stream",
     "text": [
      "avg, min h: 504.10, 18.34: 100%|███████████████████████████████████████████████████| 6/6 [00:44<00:00,  7.46s/it]\n",
      "  0%|                                                                                      | 0/6 [00:00<?, ?it/s]"
     ]
    },
    {
     "name": "stdout",
     "output_type": "stream",
     "text": [
      "[8.75301533e+09 9.62074784e+09 1.01400749e+10 9.60924945e+09\n",
      " 1.05100016e+10 1.11720011e+10]\n"
     ]
    },
    {
     "name": "stderr",
     "output_type": "stream",
     "text": [
      "avg, min h: 504.11, 18.41: 100%|███████████████████████████████████████████████████| 6/6 [00:43<00:00,  7.18s/it]\n",
      "  0%|                                                                                      | 0/6 [00:00<?, ?it/s]"
     ]
    },
    {
     "name": "stdout",
     "output_type": "stream",
     "text": [
      "[1.03035052e+10 1.04741378e+10 1.01577125e+10 1.06661264e+10\n",
      " 1.29138068e+10 1.32385825e+10]\n"
     ]
    },
    {
     "name": "stderr",
     "output_type": "stream",
     "text": [
      "avg, min h: 504.11, 18.46: 100%|███████████████████████████████████████████████████| 6/6 [00:44<00:00,  7.34s/it]\n",
      "  0%|                                                                                      | 0/6 [00:00<?, ?it/s]"
     ]
    },
    {
     "name": "stdout",
     "output_type": "stream",
     "text": [
      "[1.42713223e+10 1.21378261e+10 1.29656966e+10 1.22486670e+10\n",
      " 1.24636153e+10 1.09179107e+10]\n"
     ]
    },
    {
     "name": "stderr",
     "output_type": "stream",
     "text": [
      "avg, min h: 504.10, 18.48: 100%|███████████████████████████████████████████████████| 6/6 [00:43<00:00,  7.22s/it]\n",
      "  0%|                                                                                      | 0/6 [00:00<?, ?it/s]"
     ]
    },
    {
     "name": "stdout",
     "output_type": "stream",
     "text": [
      "[1.01655250e+10 1.03717054e+10 1.17225232e+10 1.07667103e+10\n",
      " 1.14553327e+10 1.11283816e+10]\n"
     ]
    },
    {
     "name": "stderr",
     "output_type": "stream",
     "text": [
      "avg, min h: 504.10, 18.53: 100%|███████████████████████████████████████████████████| 6/6 [00:46<00:00,  7.70s/it]\n",
      "  0%|                                                                                      | 0/6 [00:00<?, ?it/s]"
     ]
    },
    {
     "name": "stdout",
     "output_type": "stream",
     "text": [
      "[1.05669839e+10 9.68162211e+09 9.34990898e+09 1.00144419e+10\n",
      " 9.75913379e+09 8.48198868e+09]\n"
     ]
    },
    {
     "name": "stderr",
     "output_type": "stream",
     "text": [
      "avg, min h: 504.10, 18.59: 100%|███████████████████████████████████████████████████| 6/6 [00:47<00:00,  7.87s/it]\n",
      "  0%|                                                                                      | 0/6 [00:00<?, ?it/s]"
     ]
    },
    {
     "name": "stdout",
     "output_type": "stream",
     "text": [
      "[1.04974764e+10 1.04276060e+10 9.15813259e+09 9.10597185e+09\n",
      " 8.56764748e+09 7.42996016e+09]\n"
     ]
    },
    {
     "name": "stderr",
     "output_type": "stream",
     "text": [
      "avg, min h: 504.11, 18.66: 100%|███████████████████████████████████████████████████| 6/6 [00:42<00:00,  7.13s/it]\n",
      "  0%|                                                                                      | 0/6 [00:00<?, ?it/s]"
     ]
    },
    {
     "name": "stdout",
     "output_type": "stream",
     "text": [
      "[7.28009277e+09 7.97700056e+09 7.98709363e+09 8.73146944e+09\n",
      " 9.81085295e+09 9.20671043e+09]\n"
     ]
    },
    {
     "name": "stderr",
     "output_type": "stream",
     "text": [
      "avg, min h: 504.12, 18.75: 100%|███████████████████████████████████████████████████| 6/6 [00:41<00:00,  6.96s/it]\n",
      "  0%|                                                                                      | 0/6 [00:00<?, ?it/s]"
     ]
    },
    {
     "name": "stdout",
     "output_type": "stream",
     "text": [
      "[1.01447435e+10 9.04555920e+09 1.03466946e+10 8.99980430e+09\n",
      " 8.01667767e+09 7.34939470e+09]\n"
     ]
    },
    {
     "name": "stderr",
     "output_type": "stream",
     "text": [
      "avg, min h: 504.13, 18.83: 100%|███████████████████████████████████████████████████| 6/6 [00:45<00:00,  7.61s/it]\n",
      "  0%|                                                                                      | 0/6 [00:00<?, ?it/s]"
     ]
    },
    {
     "name": "stdout",
     "output_type": "stream",
     "text": [
      "[8.58806812e+09 8.28100408e+09 9.83912003e+09 9.87025579e+09\n",
      " 9.77875919e+09 1.04249080e+10]\n"
     ]
    },
    {
     "name": "stderr",
     "output_type": "stream",
     "text": [
      "avg, min h: 504.14, 18.90: 100%|███████████████████████████████████████████████████| 6/6 [00:46<00:00,  7.73s/it]\n",
      "  0%|                                                                                      | 0/6 [00:00<?, ?it/s]"
     ]
    },
    {
     "name": "stdout",
     "output_type": "stream",
     "text": [
      "[1.06897435e+10 8.84852523e+09 8.42743888e+09 9.21191745e+09\n",
      " 9.11548148e+09 8.98804700e+09]\n"
     ]
    },
    {
     "name": "stderr",
     "output_type": "stream",
     "text": [
      "avg, min h: 504.14, 18.99: 100%|███████████████████████████████████████████████████| 6/6 [00:44<00:00,  7.37s/it]\n",
      "  0%|                                                                                      | 0/6 [00:00<?, ?it/s]"
     ]
    },
    {
     "name": "stdout",
     "output_type": "stream",
     "text": [
      "[1.08048498e+10 1.03358885e+10 1.02545248e+10 9.48473522e+09\n",
      " 9.12892873e+09 9.49481984e+09]\n"
     ]
    },
    {
     "name": "stderr",
     "output_type": "stream",
     "text": [
      "avg, min h: 504.15, 19.06: 100%|███████████████████████████████████████████████████| 6/6 [00:42<00:00,  7.12s/it]\n",
      "  0%|                                                                                      | 0/6 [00:00<?, ?it/s]"
     ]
    },
    {
     "name": "stdout",
     "output_type": "stream",
     "text": [
      "[8.95119930e+09 7.88318295e+09 8.69888289e+09 8.45836110e+09\n",
      " 8.97616513e+09 1.02315273e+10]\n"
     ]
    },
    {
     "name": "stderr",
     "output_type": "stream",
     "text": [
      "avg, min h: 504.16, 19.15: 100%|███████████████████████████████████████████████████| 6/6 [00:39<00:00,  6.59s/it]\n",
      "  0%|                                                                                      | 0/6 [00:00<?, ?it/s]"
     ]
    },
    {
     "name": "stdout",
     "output_type": "stream",
     "text": [
      "[1.07610728e+10 8.27668998e+09 9.70678714e+09 9.40991158e+09\n",
      " 9.27393332e+09 9.67086242e+09]\n"
     ]
    },
    {
     "name": "stderr",
     "output_type": "stream",
     "text": [
      "avg, min h: 504.16, 19.22: 100%|███████████████████████████████████████████████████| 6/6 [00:41<00:00,  6.94s/it]\n",
      "  0%|                                                                                      | 0/6 [00:00<?, ?it/s]"
     ]
    },
    {
     "name": "stdout",
     "output_type": "stream",
     "text": [
      "[9.06564128e+09 9.52851133e+09 1.10691940e+10 1.04871842e+10\n",
      " 9.90965708e+09 1.05303634e+10]\n"
     ]
    },
    {
     "name": "stderr",
     "output_type": "stream",
     "text": [
      "avg, min h: 504.17, 19.27: 100%|███████████████████████████████████████████████████| 6/6 [00:44<00:00,  7.45s/it]\n",
      "  0%|                                                                                      | 0/6 [00:00<?, ?it/s]"
     ]
    },
    {
     "name": "stdout",
     "output_type": "stream",
     "text": [
      "[1.11417882e+10 1.11558123e+10 1.31654793e+10 1.33340956e+10\n",
      " 1.36012829e+10 1.27096552e+10]\n"
     ]
    },
    {
     "name": "stderr",
     "output_type": "stream",
     "text": [
      "avg, min h: 504.16, 19.29: 100%|███████████████████████████████████████████████████| 6/6 [00:48<00:00,  8.01s/it]\n",
      "  0%|                                                                                      | 0/6 [00:00<?, ?it/s]"
     ]
    },
    {
     "name": "stdout",
     "output_type": "stream",
     "text": [
      "[1.27184140e+10 1.13169260e+10 1.06046850e+10 1.07613993e+10\n",
      " 1.19035208e+10 1.14611124e+10]\n"
     ]
    },
    {
     "name": "stderr",
     "output_type": "stream",
     "text": [
      "avg, min h: 504.15, 19.33: 100%|███████████████████████████████████████████████████| 6/6 [00:49<00:00,  8.23s/it]\n",
      "  0%|                                                                                      | 0/6 [00:00<?, ?it/s]"
     ]
    },
    {
     "name": "stdout",
     "output_type": "stream",
     "text": [
      "[1.27860555e+10 1.29044705e+10 1.21038854e+10 1.00226123e+10\n",
      " 1.23695823e+10 1.32348724e+10]\n"
     ]
    },
    {
     "name": "stderr",
     "output_type": "stream",
     "text": [
      "avg, min h: 504.15, 19.35: 100%|███████████████████████████████████████████████████| 6/6 [00:42<00:00,  7.06s/it]\n",
      "  0%|                                                                                      | 0/6 [00:00<?, ?it/s]"
     ]
    },
    {
     "name": "stdout",
     "output_type": "stream",
     "text": [
      "[1.13896096e+10 1.18220255e+10 1.28040247e+10 1.31779189e+10\n",
      " 1.37278231e+10 1.35905336e+10]\n"
     ]
    },
    {
     "name": "stderr",
     "output_type": "stream",
     "text": [
      "avg, min h: 504.14, 19.37: 100%|███████████████████████████████████████████████████| 6/6 [00:42<00:00,  7.11s/it]\n",
      "  0%|                                                                                      | 0/6 [00:00<?, ?it/s]"
     ]
    },
    {
     "name": "stdout",
     "output_type": "stream",
     "text": [
      "[1.24153484e+10 1.12281095e+10 1.25926950e+10 1.03769714e+10\n",
      " 1.02178046e+10 1.07982185e+10]\n"
     ]
    },
    {
     "name": "stderr",
     "output_type": "stream",
     "text": [
      "avg, min h: 504.13, 19.42: 100%|███████████████████████████████████████████████████| 6/6 [00:49<00:00,  8.23s/it]\n",
      "  0%|                                                                                      | 0/6 [00:00<?, ?it/s]"
     ]
    },
    {
     "name": "stdout",
     "output_type": "stream",
     "text": [
      "[1.00190390e+10 1.17061710e+10 1.03820908e+10 9.36029445e+09\n",
      " 9.11381232e+09 8.75650123e+09]\n"
     ]
    },
    {
     "name": "stderr",
     "output_type": "stream",
     "text": [
      "avg, min h: 504.14, 19.50: 100%|███████████████████████████████████████████████████| 6/6 [00:49<00:00,  8.19s/it]\n",
      "  0%|                                                                                      | 0/6 [00:00<?, ?it/s]"
     ]
    },
    {
     "name": "stdout",
     "output_type": "stream",
     "text": [
      "[9.76324771e+09 1.01102823e+10 8.77188797e+09 8.79894775e+09\n",
      " 7.66151497e+09 8.98938901e+09]\n"
     ]
    },
    {
     "name": "stderr",
     "output_type": "stream",
     "text": [
      "avg, min h: 504.15, 19.57: 100%|███████████████████████████████████████████████████| 6/6 [00:41<00:00,  6.90s/it]\n",
      "  0%|                                                                                      | 0/6 [00:00<?, ?it/s]"
     ]
    },
    {
     "name": "stdout",
     "output_type": "stream",
     "text": [
      "[8.52470927e+09 8.52261798e+09 9.48683190e+09 9.25946669e+09\n",
      " 1.09936410e+10 1.13448105e+10]\n"
     ]
    },
    {
     "name": "stderr",
     "output_type": "stream",
     "text": [
      "avg, min h: 504.15, 19.63: 100%|███████████████████████████████████████████████████| 6/6 [00:47<00:00,  7.84s/it]\n",
      "  0%|                                                                                      | 0/6 [00:00<?, ?it/s]"
     ]
    },
    {
     "name": "stdout",
     "output_type": "stream",
     "text": [
      "[1.15100551e+10 1.04189619e+10 9.75646392e+09 9.99552601e+09\n",
      " 1.02905657e+10 9.07907911e+09]\n"
     ]
    },
    {
     "name": "stderr",
     "output_type": "stream",
     "text": [
      "avg, min h: 504.16, 19.69: 100%|███████████████████████████████████████████████████| 6/6 [00:45<00:00,  7.60s/it]\n",
      "  0%|                                                                                      | 0/6 [00:00<?, ?it/s]"
     ]
    },
    {
     "name": "stdout",
     "output_type": "stream",
     "text": [
      "[9.68412614e+09 8.69856894e+09 1.09123137e+10 1.10219833e+10\n",
      " 1.03522240e+10 1.03385893e+10]\n"
     ]
    },
    {
     "name": "stderr",
     "output_type": "stream",
     "text": [
      "avg, min h: 504.16, 19.75: 100%|███████████████████████████████████████████████████| 6/6 [00:45<00:00,  7.63s/it]\n",
      "  0%|                                                                                      | 0/6 [00:00<?, ?it/s]"
     ]
    },
    {
     "name": "stdout",
     "output_type": "stream",
     "text": [
      "[1.03324062e+10 1.01217739e+10 1.00184730e+10 1.09123670e+10\n",
      " 1.15687263e+10 1.17360066e+10]\n"
     ]
    },
    {
     "name": "stderr",
     "output_type": "stream",
     "text": [
      "avg, min h: 504.16, 19.80: 100%|███████████████████████████████████████████████████| 6/6 [00:48<00:00,  8.17s/it]\n",
      "  0%|                                                                                      | 0/6 [00:00<?, ?it/s]"
     ]
    },
    {
     "name": "stdout",
     "output_type": "stream",
     "text": [
      "[1.34264979e+10 1.46992781e+10 1.39445558e+10 1.46717509e+10\n",
      " 1.33636326e+10 1.13506582e+10]\n"
     ]
    },
    {
     "name": "stderr",
     "output_type": "stream",
     "text": [
      "avg, min h: 504.14, 19.81: 100%|███████████████████████████████████████████████████| 6/6 [00:46<00:00,  7.75s/it]\n",
      "  0%|                                                                                      | 0/6 [00:00<?, ?it/s]"
     ]
    },
    {
     "name": "stdout",
     "output_type": "stream",
     "text": [
      "[1.05655266e+10 1.24819594e+10 1.22572213e+10 1.15684809e+10\n",
      " 1.31995480e+10 1.25513623e+10]\n"
     ]
    },
    {
     "name": "stderr",
     "output_type": "stream",
     "text": [
      "avg, min h: 504.14, 19.84: 100%|███████████████████████████████████████████████████| 6/6 [00:44<00:00,  7.49s/it]\n",
      "  0%|                                                                                      | 0/6 [00:00<?, ?it/s]"
     ]
    },
    {
     "name": "stdout",
     "output_type": "stream",
     "text": [
      "[1.26493732e+10 1.28722614e+10 1.44062353e+10 1.31712337e+10\n",
      " 1.25517428e+10 1.09250228e+10]\n"
     ]
    },
    {
     "name": "stderr",
     "output_type": "stream",
     "text": [
      "avg, min h: 504.13, 19.86: 100%|███████████████████████████████████████████████████| 6/6 [00:40<00:00,  6.73s/it]\n",
      "  0%|                                                                                      | 0/6 [00:00<?, ?it/s]"
     ]
    },
    {
     "name": "stdout",
     "output_type": "stream",
     "text": [
      "[1.12375297e+10 1.23317570e+10 1.09654613e+10 1.29781276e+10\n",
      " 1.19646674e+10 1.10471926e+10]\n"
     ]
    },
    {
     "name": "stderr",
     "output_type": "stream",
     "text": [
      "avg, min h: 504.12, 19.89: 100%|███████████████████████████████████████████████████| 6/6 [00:42<00:00,  7.08s/it]\n",
      "  0%|                                                                                      | 0/6 [00:00<?, ?it/s]"
     ]
    },
    {
     "name": "stdout",
     "output_type": "stream",
     "text": [
      "[1.26120462e+10 1.25044931e+10 1.19546508e+10 1.08375221e+10\n",
      " 1.12353476e+10 1.12716122e+10]\n"
     ]
    },
    {
     "name": "stderr",
     "output_type": "stream",
     "text": [
      "avg, min h: 504.12, 19.91: 100%|███████████████████████████████████████████████████| 6/6 [00:43<00:00,  7.30s/it]\n",
      "  0%|                                                                                      | 0/6 [00:00<?, ?it/s]"
     ]
    },
    {
     "name": "stdout",
     "output_type": "stream",
     "text": [
      "[1.07850502e+10 1.06505857e+10 1.03220012e+10 1.01234851e+10\n",
      " 1.01310926e+10 1.21273103e+10]\n"
     ]
    },
    {
     "name": "stderr",
     "output_type": "stream",
     "text": [
      "avg, min h: 504.12, 19.96: 100%|███████████████████████████████████████████████████| 6/6 [00:42<00:00,  7.06s/it]\n",
      "  0%|                                                                                      | 0/6 [00:00<?, ?it/s]"
     ]
    },
    {
     "name": "stdout",
     "output_type": "stream",
     "text": [
      "[1.09293154e+10 1.01261711e+10 9.21585521e+09 7.94118696e+09\n",
      " 8.60657718e+09 9.01741197e+09]\n"
     ]
    },
    {
     "name": "stderr",
     "output_type": "stream",
     "text": [
      "avg, min h: 504.13, 20.04: 100%|███████████████████████████████████████████████████| 6/6 [00:44<00:00,  7.46s/it]\n",
      "  0%|                                                                                      | 0/6 [00:00<?, ?it/s]"
     ]
    },
    {
     "name": "stdout",
     "output_type": "stream",
     "text": [
      "[8.51182354e+09 1.02037592e+10 8.83097415e+09 9.08481422e+09\n",
      " 8.53682116e+09 8.25822663e+09]\n"
     ]
    },
    {
     "name": "stderr",
     "output_type": "stream",
     "text": [
      "avg, min h: 504.14, 20.13: 100%|███████████████████████████████████████████████████| 6/6 [00:46<00:00,  7.73s/it]\n",
      "  0%|                                                                                      | 0/6 [00:00<?, ?it/s]"
     ]
    },
    {
     "name": "stdout",
     "output_type": "stream",
     "text": [
      "[9.91750264e+09 1.03310848e+10 1.04606297e+10 1.16255475e+10\n",
      " 1.11330402e+10 1.11868721e+10]\n"
     ]
    },
    {
     "name": "stderr",
     "output_type": "stream",
     "text": [
      "avg, min h: 504.14, 20.18: 100%|███████████████████████████████████████████████████| 6/6 [00:45<00:00,  7.55s/it]\n",
      "  0%|                                                                                      | 0/6 [00:00<?, ?it/s]"
     ]
    },
    {
     "name": "stdout",
     "output_type": "stream",
     "text": [
      "[1.07778403e+10 9.67657405e+09 9.41022210e+09 1.07180204e+10\n",
      " 1.15494283e+10 1.05138645e+10]\n"
     ]
    },
    {
     "name": "stderr",
     "output_type": "stream",
     "text": [
      "avg, min h: 504.14, 20.25: 100%|███████████████████████████████████████████████████| 6/6 [00:46<00:00,  7.69s/it]\n",
      "  0%|                                                                                      | 0/6 [00:00<?, ?it/s]"
     ]
    },
    {
     "name": "stdout",
     "output_type": "stream",
     "text": [
      "[1.04006845e+10 9.76448916e+09 9.77546404e+09 8.38955836e+09\n",
      " 8.19016825e+09 7.99284255e+09]\n"
     ]
    },
    {
     "name": "stderr",
     "output_type": "stream",
     "text": [
      "avg, min h: 504.15, 20.32: 100%|███████████████████████████████████████████████████| 6/6 [00:44<00:00,  7.39s/it]\n",
      "  0%|                                                                                      | 0/6 [00:00<?, ?it/s]"
     ]
    },
    {
     "name": "stdout",
     "output_type": "stream",
     "text": [
      "[9.20106925e+09 6.88408052e+09 6.49268493e+09 8.97908168e+09\n",
      " 9.21689168e+09 1.05316713e+10]\n"
     ]
    },
    {
     "name": "stderr",
     "output_type": "stream",
     "text": [
      "avg, min h: 504.16, 20.40: 100%|███████████████████████████████████████████████████| 6/6 [00:49<00:00,  8.17s/it]\n",
      "  0%|                                                                                      | 0/6 [00:00<?, ?it/s]"
     ]
    },
    {
     "name": "stdout",
     "output_type": "stream",
     "text": [
      "[1.04062765e+10 1.14450698e+10 8.25624275e+09 9.08833324e+09\n",
      " 9.85530113e+09 1.08812914e+10]\n"
     ]
    },
    {
     "name": "stderr",
     "output_type": "stream",
     "text": [
      "avg, min h: 504.16, 20.46: 100%|███████████████████████████████████████████████████| 6/6 [00:42<00:00,  7.05s/it]\n",
      "  0%|                                                                                      | 0/6 [00:00<?, ?it/s]"
     ]
    },
    {
     "name": "stdout",
     "output_type": "stream",
     "text": [
      "[9.88766038e+09 1.07864807e+10 9.67963250e+09 9.09749987e+09\n",
      " 9.48436944e+09 1.08641656e+10]\n"
     ]
    },
    {
     "name": "stderr",
     "output_type": "stream",
     "text": [
      "avg, min h: 504.16, 20.53: 100%|███████████████████████████████████████████████████| 6/6 [00:45<00:00,  7.52s/it]\n",
      "  0%|                                                                                      | 0/6 [00:00<?, ?it/s]"
     ]
    },
    {
     "name": "stdout",
     "output_type": "stream",
     "text": [
      "[8.90188759e+09 9.10676304e+09 9.67777635e+09 9.11653264e+09\n",
      " 8.69356217e+09 9.03181693e+09]\n"
     ]
    },
    {
     "name": "stderr",
     "output_type": "stream",
     "text": [
      "avg, min h: 504.17, 20.61: 100%|███████████████████████████████████████████████████| 6/6 [00:44<00:00,  7.44s/it]\n",
      "  0%|                                                                                      | 0/6 [00:00<?, ?it/s]"
     ]
    },
    {
     "name": "stdout",
     "output_type": "stream",
     "text": [
      "[9.56055481e+09 1.00597052e+10 9.79613604e+09 1.03324411e+10\n",
      " 1.05928187e+10 1.27466486e+10]\n"
     ]
    },
    {
     "name": "stderr",
     "output_type": "stream",
     "text": [
      "avg, min h: 504.17, 20.67: 100%|███████████████████████████████████████████████████| 6/6 [00:41<00:00,  6.91s/it]\n",
      "  0%|                                                                                      | 0/6 [00:00<?, ?it/s]"
     ]
    },
    {
     "name": "stdout",
     "output_type": "stream",
     "text": [
      "[1.29061165e+10 1.18620079e+10 1.17047493e+10 1.30244736e+10\n",
      " 1.19033251e+10 1.25319720e+10]\n"
     ]
    },
    {
     "name": "stderr",
     "output_type": "stream",
     "text": [
      "avg, min h: 504.17, 20.70: 100%|███████████████████████████████████████████████████| 6/6 [00:47<00:00,  7.98s/it]\n",
      "  0%|                                                                                      | 0/6 [00:00<?, ?it/s]"
     ]
    },
    {
     "name": "stdout",
     "output_type": "stream",
     "text": [
      "[1.41593860e+10 1.31962160e+10 1.13439450e+10 1.26296361e+10\n",
      " 1.28347317e+10 1.32989150e+10]\n"
     ]
    },
    {
     "name": "stderr",
     "output_type": "stream",
     "text": [
      "avg, min h: 504.16, 20.70: 100%|███████████████████████████████████████████████████| 6/6 [00:47<00:00,  7.99s/it]\n",
      "  0%|                                                                                      | 0/6 [00:00<?, ?it/s]"
     ]
    },
    {
     "name": "stdout",
     "output_type": "stream",
     "text": [
      "[1.30983308e+10 1.17318677e+10 1.30186602e+10 1.22259611e+10\n",
      " 1.27985275e+10 1.42051298e+10]\n"
     ]
    },
    {
     "name": "stderr",
     "output_type": "stream",
     "text": [
      "avg, min h: 504.15, 20.71: 100%|███████████████████████████████████████████████████| 6/6 [00:44<00:00,  7.47s/it]\n",
      "  0%|                                                                                      | 0/6 [00:00<?, ?it/s]"
     ]
    },
    {
     "name": "stdout",
     "output_type": "stream",
     "text": [
      "[1.43539536e+10 1.16664161e+10 1.12292883e+10 1.09952199e+10\n",
      " 1.02784024e+10 1.04499758e+10]\n"
     ]
    },
    {
     "name": "stderr",
     "output_type": "stream",
     "text": [
      "avg, min h: 504.14, 20.74: 100%|███████████████████████████████████████████████████| 6/6 [00:48<00:00,  8.09s/it]\n",
      "  0%|                                                                                      | 0/6 [00:00<?, ?it/s]"
     ]
    },
    {
     "name": "stdout",
     "output_type": "stream",
     "text": [
      "[1.10257879e+10 1.11819026e+10 1.03657426e+10 9.87027691e+09\n",
      " 1.04690197e+10 1.14346419e+10]\n"
     ]
    },
    {
     "name": "stderr",
     "output_type": "stream",
     "text": [
      "avg, min h: 504.14, 20.79: 100%|███████████████████████████████████████████████████| 6/6 [00:46<00:00,  7.71s/it]\n",
      "  0%|                                                                                      | 0/6 [00:00<?, ?it/s]"
     ]
    },
    {
     "name": "stdout",
     "output_type": "stream",
     "text": [
      "[1.04838994e+10 1.03692590e+10 9.37414378e+09 8.46013303e+09\n",
      " 8.67696741e+09 8.96019195e+09]\n"
     ]
    },
    {
     "name": "stderr",
     "output_type": "stream",
     "text": [
      "avg, min h: 504.15, 20.86: 100%|███████████████████████████████████████████████████| 6/6 [00:41<00:00,  6.91s/it]\n",
      "  0%|                                                                                      | 0/6 [00:00<?, ?it/s]"
     ]
    },
    {
     "name": "stdout",
     "output_type": "stream",
     "text": [
      "[9.42460031e+09 8.25175519e+09 8.79609493e+09 9.62421485e+09\n",
      " 9.62657918e+09 1.10385226e+10]\n"
     ]
    },
    {
     "name": "stderr",
     "output_type": "stream",
     "text": [
      "avg, min h: 504.16, 20.94: 100%|███████████████████████████████████████████████████| 6/6 [00:43<00:00,  7.23s/it]\n",
      "  0%|                                                                                      | 0/6 [00:00<?, ?it/s]"
     ]
    },
    {
     "name": "stdout",
     "output_type": "stream",
     "text": [
      "[1.02719295e+10 1.15150935e+10 1.31577308e+10 1.27504511e+10\n",
      " 1.30104780e+10 1.05084424e+10]\n"
     ]
    },
    {
     "name": "stderr",
     "output_type": "stream",
     "text": [
      "avg, min h: 504.15, 20.98: 100%|███████████████████████████████████████████████████| 6/6 [00:44<00:00,  7.35s/it]\n",
      "  0%|                                                                                      | 0/6 [00:00<?, ?it/s]"
     ]
    },
    {
     "name": "stdout",
     "output_type": "stream",
     "text": [
      "[1.11115190e+10 1.02170627e+10 1.21562589e+10 1.19954616e+10\n",
      " 9.76365803e+09 1.04441817e+10]\n"
     ]
    },
    {
     "name": "stderr",
     "output_type": "stream",
     "text": [
      "avg, min h: 504.15, 21.01: 100%|███████████████████████████████████████████████████| 6/6 [00:46<00:00,  7.74s/it]\n",
      "  0%|                                                                                      | 0/6 [00:00<?, ?it/s]"
     ]
    },
    {
     "name": "stdout",
     "output_type": "stream",
     "text": [
      "[1.07804366e+10 1.15423062e+10 1.05458590e+10 1.13559855e+10\n",
      " 1.04706555e+10 1.13323395e+10]\n"
     ]
    },
    {
     "name": "stderr",
     "output_type": "stream",
     "text": [
      "avg, min h: 504.15, 21.05: 100%|███████████████████████████████████████████████████| 6/6 [00:43<00:00,  7.20s/it]\n",
      "  0%|                                                                                      | 0/6 [00:00<?, ?it/s]"
     ]
    },
    {
     "name": "stdout",
     "output_type": "stream",
     "text": [
      "[1.01489116e+10 9.52482413e+09 9.62992437e+09 8.96118472e+09\n",
      " 9.53742665e+09 9.31428701e+09]\n"
     ]
    },
    {
     "name": "stderr",
     "output_type": "stream",
     "text": [
      "avg, min h: 504.16, 21.12: 100%|███████████████████████████████████████████████████| 6/6 [00:41<00:00,  6.98s/it]\n",
      "  0%|                                                                                      | 0/6 [00:00<?, ?it/s]"
     ]
    },
    {
     "name": "stdout",
     "output_type": "stream",
     "text": [
      "[1.11418510e+10 9.51386926e+09 1.10057340e+10 1.05095677e+10\n",
      " 1.06043062e+10 1.04865659e+10]\n"
     ]
    },
    {
     "name": "stderr",
     "output_type": "stream",
     "text": [
      "avg, min h: 504.16, 21.17: 100%|███████████████████████████████████████████████████| 6/6 [00:46<00:00,  7.73s/it]\n",
      "  0%|                                                                                      | 0/6 [00:00<?, ?it/s]"
     ]
    },
    {
     "name": "stdout",
     "output_type": "stream",
     "text": [
      "[1.12470613e+10 1.10850344e+10 9.94786654e+09 9.28433862e+09\n",
      " 1.05488383e+10 9.80069940e+09]\n"
     ]
    },
    {
     "name": "stderr",
     "output_type": "stream",
     "text": [
      "avg, min h: 504.16, 21.22: 100%|███████████████████████████████████████████████████| 6/6 [00:43<00:00,  7.25s/it]\n"
     ]
    }
   ],
   "source": [
    "time = 50\n",
    "obs_sample_rate = 1/4\n",
    "num_steps=int(time/obs_sample_rate)\n",
    "\n",
    "for i in range(num_steps):\n",
    "    total_melt=(10+melt_data['ar1'][i*int(obs_sample_rate/dt):(1+i)*int(obs_sample_rate/dt)].values)*1e9\n",
    "    h,s,u=run_melt_variability_obs(\n",
    "        solver, C, bed, h, s, u, obs_sample_rate, dt, total_melt, smb\n",
    "    )\n",
    "    s_obs=generate_surface(s,bed,2.0)\n",
    "    u_obs=generate_velocity(u,10.0)\n",
    "    with firedrake.DumbCheckpoint(\n",
    "        \"../data/observations/modified-mismip_{:03d}\".format(i), mode=firedrake.FILE_CREATE\n",
    "                ) as checkpoint:\n",
    "                checkpoint.store(s_obs, name='surface')\n",
    "                checkpoint.store(u_obs, name='velocity')\n",
    "                "
   ]
  },
  {
   "cell_type": "code",
   "execution_count": 74,
   "metadata": {},
   "outputs": [],
   "source": [
    "time = 10\n",
    "obs_sample_rate = 1/4\n",
    "num_steps=int(time/obs_sample_rate)\n",
    "\n",
    "s_obs_timeseries=[]\n",
    "u_obs_timeseries=[]\n",
    "\n",
    "for i in range(num_steps):\n",
    "    with firedrake.DumbCheckpoint(\n",
    "        \"../data/observations/modified-mismip_{:03d}\".format(i), mode=firedrake.FILE_READ\n",
    "    ) as checkpoint:\n",
    "        checkpoint.load(s_obs, name='surface')\n",
    "        checkpoint.load(u_obs, name='velocity')\n",
    "    \n",
    "    s_obs_timeseries.append(s_obs)\n",
    "    u_obs_timeseries.append(u_obs)"
   ]
  },
  {
   "cell_type": "code",
   "execution_count": 102,
   "metadata": {},
   "outputs": [],
   "source": [
    "from collections import OrderedDict\n",
    "ctrls = OrderedDict()\n",
    "u_obs_timeseries = OrderedDict()\n",
    "s_obs_timeseries = OrderedDict()\n",
    "t=float(obs_sample_rate)\n",
    "i=0\n",
    "R=firedrake.FunctionSpace(mesh2d, family='R', degree=0)\n",
    "while t<=time:\n",
    "    with firedrake.DumbCheckpoint(\n",
    "        \"../data/observations/modified-mismip_{:03d}\".format(i), mode=firedrake.FILE_READ\n",
    "    ) as checkpoint:\n",
    "        checkpoint.load(s_obs, name='surface')\n",
    "        checkpoint.load(u_obs, name='velocity')\n",
    "    \n",
    "    s_obs_timeseries[t]=s_obs\n",
    "    u_obs_timeseries[t]=u_obs\n",
    "    ctrls[t] = firedrake.Function(R)\n",
    "    t+=float(obs_sample_rate)  "
   ]
  },
  {
   "cell_type": "code",
   "execution_count": 109,
   "metadata": {},
   "outputs": [],
   "source": [
    "def solve_melt(ctrls,time=10):\n",
    "    h = firedrake.Function(Q)\n",
    "    s = firedrake.Function(Q)\n",
    "    u = firedrake.Function(V)\n",
    "    \n",
    "    with firedrake.DumbCheckpoint(\n",
    "        'results/mismip-degree1-melt', mode=firedrake.FILE_READ\n",
    "    ) as checkpoint:\n",
    "        checkpoint.load(h, name='thickness')\n",
    "        checkpoint.load(s, name='surface')\n",
    "        checkpoint.load(u, name='velocity')\n",
    "    \n",
    "    t=float(obs_sample_rate)\n",
    "    j = .5*float(obs_sample_rate)*firedrake.assemble((u-u_obs_timeseries[t])**2*firedrake.dx) + \\\n",
    "    .5*float(obs_sample_rate)*firedrake.assemble((s-s_obs_timeseries[t])**2*firedrake.dx) \n",
    "    while t<=time:\n",
    "        h,s,u=run_melt_variability(solver, C, bed, h, s, u, obs_sample_rate, dt, ctrls[t], smb\n",
    "                                  )\n",
    "        if t > time - float(obs_sample_rate):\n",
    "            weight = .5\n",
    "        else:\n",
    "            weight = 1.\n",
    "            j+=weight*float(obs_sample_rate)*firedrake.assemble((u-u_obs_timeseries[t])**2*firedrake.dx) + \\\n",
    "            weight*float(obs_sample_rate)*firedrake.assemble((s-s_obs_timeseries[t])**2*firedrake.dx) \n",
    "        t+=float(obs_sample_rate)\n",
    "    \n",
    "    return s, u, j\n"
   ]
  },
  {
   "cell_type": "code",
   "execution_count": 110,
   "metadata": {},
   "outputs": [
    {
     "name": "stderr",
     "output_type": "stream",
     "text": [
      "avg, min h: 503.74, 13.29: 100%|███████████████████████████████████████████████████| 6/6 [01:08<00:00, 11.38s/it]\n",
      "avg, min h: 503.79, 13.47: 100%|███████████████████████████████████████████████████| 6/6 [00:41<00:00,  7.00s/it]\n",
      "avg, min h: 503.83, 13.65: 100%|███████████████████████████████████████████████████| 6/6 [00:43<00:00,  7.26s/it]\n",
      "avg, min h: 503.88, 13.84: 100%|███████████████████████████████████████████████████| 6/6 [00:44<00:00,  7.44s/it]\n",
      "avg, min h: 503.92, 14.03: 100%|███████████████████████████████████████████████████| 6/6 [00:47<00:00,  7.93s/it]\n",
      "avg, min h: 503.97, 14.22: 100%|███████████████████████████████████████████████████| 6/6 [00:46<00:00,  7.77s/it]\n",
      "avg, min h: 504.01, 14.42: 100%|███████████████████████████████████████████████████| 6/6 [00:46<00:00,  7.70s/it]\n",
      "avg, min h: 504.06, 14.62: 100%|███████████████████████████████████████████████████| 6/6 [00:48<00:00,  8.13s/it]\n",
      "avg, min h: 504.10, 14.82: 100%|███████████████████████████████████████████████████| 6/6 [00:44<00:00,  7.38s/it]\n",
      "avg, min h: 504.15, 15.01: 100%|███████████████████████████████████████████████████| 6/6 [00:41<00:00,  7.00s/it]\n",
      "avg, min h: 504.19, 15.20: 100%|███████████████████████████████████████████████████| 6/6 [00:45<00:00,  7.62s/it]\n",
      "avg, min h: 504.24, 15.39: 100%|███████████████████████████████████████████████████| 6/6 [00:48<00:00,  8.00s/it]\n",
      "avg, min h: 504.28, 15.58: 100%|███████████████████████████████████████████████████| 6/6 [00:48<00:00,  8.15s/it]\n",
      "avg, min h: 504.33, 15.78: 100%|███████████████████████████████████████████████████| 6/6 [00:38<00:00,  6.44s/it]\n",
      "avg, min h: 504.37, 15.97: 100%|███████████████████████████████████████████████████| 6/6 [00:43<00:00,  7.29s/it]\n",
      "avg, min h: 504.42, 16.16: 100%|███████████████████████████████████████████████████| 6/6 [00:39<00:00,  6.52s/it]\n",
      "avg, min h: 504.46, 16.36: 100%|███████████████████████████████████████████████████| 6/6 [00:37<00:00,  6.32s/it]\n",
      "avg, min h: 504.51, 16.55: 100%|███████████████████████████████████████████████████| 6/6 [00:45<00:00,  7.60s/it]\n",
      "avg, min h: 504.55, 16.75: 100%|███████████████████████████████████████████████████| 6/6 [00:45<00:00,  7.51s/it]\n",
      "avg, min h: 504.60, 16.94: 100%|███████████████████████████████████████████████████| 6/6 [00:41<00:00,  6.87s/it]\n",
      "avg, min h: 504.64, 17.14: 100%|███████████████████████████████████████████████████| 6/6 [00:41<00:00,  6.85s/it]\n",
      "avg, min h: 504.69, 17.34: 100%|███████████████████████████████████████████████████| 6/6 [00:46<00:00,  7.82s/it]\n",
      "avg, min h: 504.73, 17.54: 100%|███████████████████████████████████████████████████| 6/6 [00:40<00:00,  6.70s/it]\n",
      "avg, min h: 504.78, 17.74: 100%|███████████████████████████████████████████████████| 6/6 [00:45<00:00,  7.56s/it]\n",
      "avg, min h: 504.82, 17.94: 100%|███████████████████████████████████████████████████| 6/6 [00:42<00:00,  7.10s/it]\n",
      "avg, min h: 504.87, 18.13: 100%|███████████████████████████████████████████████████| 6/6 [00:48<00:00,  8.05s/it]\n",
      "avg, min h: 504.91, 18.32: 100%|███████████████████████████████████████████████████| 6/6 [00:48<00:00,  8.08s/it]\n",
      "avg, min h: 504.96, 18.52: 100%|███████████████████████████████████████████████████| 6/6 [00:48<00:00,  8.07s/it]\n",
      "avg, min h: 505.00, 18.71: 100%|███████████████████████████████████████████████████| 6/6 [00:48<00:00,  8.11s/it]\n",
      "avg, min h: 505.05, 18.91: 100%|███████████████████████████████████████████████████| 6/6 [00:48<00:00,  8.05s/it]\n",
      "avg, min h: 505.09, 19.10: 100%|███████████████████████████████████████████████████| 6/6 [00:46<00:00,  7.77s/it]\n",
      "avg, min h: 505.14, 19.30: 100%|███████████████████████████████████████████████████| 6/6 [00:41<00:00,  6.97s/it]\n",
      "avg, min h: 505.18, 19.50: 100%|███████████████████████████████████████████████████| 6/6 [00:41<00:00,  6.99s/it]\n",
      "avg, min h: 505.22, 19.70: 100%|███████████████████████████████████████████████████| 6/6 [00:48<00:00,  8.02s/it]\n",
      "avg, min h: 505.27, 19.90: 100%|███████████████████████████████████████████████████| 6/6 [00:47<00:00,  7.90s/it]\n",
      "avg, min h: 505.31, 20.09: 100%|███████████████████████████████████████████████████| 6/6 [00:45<00:00,  7.54s/it]\n",
      "avg, min h: 505.36, 20.30: 100%|███████████████████████████████████████████████████| 6/6 [00:48<00:00,  8.09s/it]\n",
      "avg, min h: 505.40, 20.50: 100%|███████████████████████████████████████████████████| 6/6 [00:45<00:00,  7.61s/it]\n",
      "avg, min h: 505.44, 20.70: 100%|███████████████████████████████████████████████████| 6/6 [00:40<00:00,  6.67s/it]\n",
      "avg, min h: 505.49, 20.90: 100%|███████████████████████████████████████████████████| 6/6 [00:43<00:00,  7.21s/it]\n"
     ]
    }
   ],
   "source": [
    "s,u,j = solve_melt(ctrls)"
   ]
  },
  {
   "cell_type": "code",
   "execution_count": 113,
   "metadata": {},
   "outputs": [],
   "source": [
    "alpha = Constant(1e-1)\n",
    "regularization = alpha/2*sum([1/dt*(fb-fa)**2*firedrake.dx for fb, fa in\n",
    "    zip(list(ctrls.values())[1:], list(ctrls.values())[:-1])])"
   ]
  },
  {
   "cell_type": "code",
   "execution_count": 115,
   "metadata": {},
   "outputs": [],
   "source": [
    "J = j+firedrake.assemble(regularization)\n",
    "m = [Control(c) for c in ctrls.values()]"
   ]
  },
  {
   "cell_type": "code",
   "execution_count": 116,
   "metadata": {},
   "outputs": [],
   "source": [
    "rf = ReducedFunctional(J,m)"
   ]
  },
  {
   "cell_type": "code",
   "execution_count": 117,
   "metadata": {},
   "outputs": [],
   "source": [
    "import pyadjoint, pyadjoint.optimization.rol_solver\n",
    "class Objective(pyadjoint.optimization.rol_solver.ROLObjective):\n",
    "    def __init__(self, *args, **kwargs):\n",
    "        super(Objective, self).__init__(*args, **kwargs)\n",
    "        \n",
    "    def update(self, x, flag, iteration):\n",
    "        try:\n",
    "            self.val = self.rf(x.dat)\n",
    "        except firedrake.ConvergenceError:\n",
    "            self.val = np.inf\n",
    "            \n",
    "class Solver(pyadjoint.ROLSolver):\n",
    "    def __init__(self, problem, parameters, inner_product=\"L2\"):\n",
    "        super(Solver, self).__init__(problem, parameters, inner_product=inner_product)\n",
    "        self.rolobjective = Objective(problem.reduced_functional)"
   ]
  },
  {
   "cell_type": "code",
   "execution_count": 118,
   "metadata": {},
   "outputs": [],
   "source": [
    "problem = pyadjoint.MinimizationProblem(rf)\n",
    "\n",
    "parameters = {\n",
    "    \"Step\": {\n",
    "        \"Type\": \"Trust Region\",\n",
    "        \"Trust Region\": {\n",
    "            \"Initial Radius\": -1,\n",
    "            \"Subproblem Solver\": \"Truncated CG\",\n",
    "            \"Radius Growing Rate\": 2.5,\n",
    "            \"Step Acceptance Threshold\": 0.05,\n",
    "            \"Radius Shrinking Threshold\": 0.05,\n",
    "            \"Radius Growing Threshold\": 0.9,\n",
    "            \"Radius Shrinking Rate (Negative rho)\": 0.0625,\n",
    "            \"Radius Shrinking Rate (Positive rho)\": 0.25,\n",
    "            \"Radius Growing Rate\": 2.5,\n",
    "            \"Sufficient Decrease Parameter\": 1e-4,\n",
    "            \"Safeguard Size\": 1e2,\n",
    "        },\n",
    "    },\n",
    "    \"Status Test\": {\n",
    "        \"Gradient Tolerance\": 1e-7,\n",
    "        \"Iteration Limit\": 100,\n",
    "    },\n",
    "    \"General\": {\n",
    "        \"Print Verbosity\": 1,\n",
    "        \"Secant\": {\n",
    "            \"Type\": \"Limited-Memory BFGS\",\n",
    "            \"Maximum Storage\": 10,\n",
    "        },\n",
    "    },\n",
    "}\n",
    "time_dependent_solver = Solver(problem, parameters)"
   ]
  },
  {
   "cell_type": "code",
   "execution_count": 119,
   "metadata": {},
   "outputs": [
    {
     "ename": "AttributeError",
     "evalue": "'numpy.float64' object has no attribute 'block_variable'",
     "output_type": "error",
     "traceback": [
      "\u001b[0;31m---------------------------------------------------------------------------\u001b[0m",
      "\u001b[0;31mAttributeError\u001b[0m                            Traceback (most recent call last)",
      "\u001b[0;32m/tmp/ipykernel_173154/356034998.py\u001b[0m in \u001b[0;36m<module>\u001b[0;34m\u001b[0m\n\u001b[0;32m----> 1\u001b[0;31m \u001b[0mopt_ctrls\u001b[0m \u001b[0;34m=\u001b[0m \u001b[0mtime_dependent_solver\u001b[0m\u001b[0;34m.\u001b[0m\u001b[0msolve\u001b[0m\u001b[0;34m(\u001b[0m\u001b[0;34m)\u001b[0m\u001b[0;34m\u001b[0m\u001b[0;34m\u001b[0m\u001b[0m\n\u001b[0m",
      "\u001b[0;32m~/firedrake/firedrake/src/pyadjoint/pyadjoint/tape.py\u001b[0m in \u001b[0;36mwrapper\u001b[0;34m(*args, **kwargs)\u001b[0m\n\u001b[1;32m     44\u001b[0m     \u001b[0;32mdef\u001b[0m \u001b[0mwrapper\u001b[0m\u001b[0;34m(\u001b[0m\u001b[0;34m*\u001b[0m\u001b[0margs\u001b[0m\u001b[0;34m,\u001b[0m \u001b[0;34m**\u001b[0m\u001b[0mkwargs\u001b[0m\u001b[0;34m)\u001b[0m\u001b[0;34m:\u001b[0m\u001b[0;34m\u001b[0m\u001b[0;34m\u001b[0m\u001b[0m\n\u001b[1;32m     45\u001b[0m         \u001b[0;32mwith\u001b[0m \u001b[0mstop_annotating\u001b[0m\u001b[0;34m(\u001b[0m\u001b[0;34m)\u001b[0m\u001b[0;34m:\u001b[0m\u001b[0;34m\u001b[0m\u001b[0;34m\u001b[0m\u001b[0m\n\u001b[0;32m---> 46\u001b[0;31m             \u001b[0;32mreturn\u001b[0m \u001b[0mfunction\u001b[0m\u001b[0;34m(\u001b[0m\u001b[0;34m*\u001b[0m\u001b[0margs\u001b[0m\u001b[0;34m,\u001b[0m \u001b[0;34m**\u001b[0m\u001b[0mkwargs\u001b[0m\u001b[0;34m)\u001b[0m\u001b[0;34m\u001b[0m\u001b[0;34m\u001b[0m\u001b[0m\n\u001b[0m\u001b[1;32m     47\u001b[0m \u001b[0;34m\u001b[0m\u001b[0m\n\u001b[1;32m     48\u001b[0m     \u001b[0;32mreturn\u001b[0m \u001b[0mwrapper\u001b[0m\u001b[0;34m\u001b[0m\u001b[0;34m\u001b[0m\u001b[0m\n",
      "\u001b[0;32m~/firedrake/firedrake/src/pyadjoint/pyadjoint/optimization/rol_solver.py\u001b[0m in \u001b[0;36msolve\u001b[0;34m(self)\u001b[0m\n\u001b[1;32m    215\u001b[0m             \u001b[0mparams\u001b[0m \u001b[0;34m=\u001b[0m \u001b[0mROL\u001b[0m\u001b[0;34m.\u001b[0m\u001b[0mParameterList\u001b[0m\u001b[0;34m(\u001b[0m\u001b[0mself\u001b[0m\u001b[0;34m.\u001b[0m\u001b[0mparams_dict\u001b[0m\u001b[0;34m,\u001b[0m \u001b[0;34m\"Parameters\"\u001b[0m\u001b[0;34m)\u001b[0m\u001b[0;34m\u001b[0m\u001b[0;34m\u001b[0m\u001b[0m\n\u001b[1;32m    216\u001b[0m             \u001b[0mself\u001b[0m\u001b[0;34m.\u001b[0m\u001b[0msolver\u001b[0m \u001b[0;34m=\u001b[0m \u001b[0mROL\u001b[0m\u001b[0;34m.\u001b[0m\u001b[0mOptimizationSolver\u001b[0m\u001b[0;34m(\u001b[0m\u001b[0mrolproblem\u001b[0m\u001b[0;34m,\u001b[0m \u001b[0mparams\u001b[0m\u001b[0;34m)\u001b[0m\u001b[0;34m\u001b[0m\u001b[0;34m\u001b[0m\u001b[0m\n\u001b[0;32m--> 217\u001b[0;31m             \u001b[0mself\u001b[0m\u001b[0;34m.\u001b[0m\u001b[0msolver\u001b[0m\u001b[0;34m.\u001b[0m\u001b[0msolve\u001b[0m\u001b[0;34m(\u001b[0m\u001b[0;34m)\u001b[0m\u001b[0;34m\u001b[0m\u001b[0;34m\u001b[0m\u001b[0m\n\u001b[0m\u001b[1;32m    218\u001b[0m             \u001b[0;32mreturn\u001b[0m \u001b[0mself\u001b[0m\u001b[0;34m.\u001b[0m\u001b[0mproblem\u001b[0m\u001b[0;34m.\u001b[0m\u001b[0mreduced_functional\u001b[0m\u001b[0;34m.\u001b[0m\u001b[0mcontrols\u001b[0m\u001b[0;34m.\u001b[0m\u001b[0mdelist\u001b[0m\u001b[0;34m(\u001b[0m\u001b[0mx\u001b[0m\u001b[0;34m.\u001b[0m\u001b[0mdat\u001b[0m\u001b[0;34m)\u001b[0m\u001b[0;34m\u001b[0m\u001b[0;34m\u001b[0m\u001b[0m\n\u001b[1;32m    219\u001b[0m \u001b[0;34m\u001b[0m\u001b[0m\n",
      "\u001b[0;32m/tmp/ipykernel_173154/4197503709.py\u001b[0m in \u001b[0;36mupdate\u001b[0;34m(self, x, flag, iteration)\u001b[0m\n\u001b[1;32m      6\u001b[0m     \u001b[0;32mdef\u001b[0m \u001b[0mupdate\u001b[0m\u001b[0;34m(\u001b[0m\u001b[0mself\u001b[0m\u001b[0;34m,\u001b[0m \u001b[0mx\u001b[0m\u001b[0;34m,\u001b[0m \u001b[0mflag\u001b[0m\u001b[0;34m,\u001b[0m \u001b[0miteration\u001b[0m\u001b[0;34m)\u001b[0m\u001b[0;34m:\u001b[0m\u001b[0;34m\u001b[0m\u001b[0;34m\u001b[0m\u001b[0m\n\u001b[1;32m      7\u001b[0m         \u001b[0;32mtry\u001b[0m\u001b[0;34m:\u001b[0m\u001b[0;34m\u001b[0m\u001b[0;34m\u001b[0m\u001b[0m\n\u001b[0;32m----> 8\u001b[0;31m             \u001b[0mself\u001b[0m\u001b[0;34m.\u001b[0m\u001b[0mval\u001b[0m \u001b[0;34m=\u001b[0m \u001b[0mself\u001b[0m\u001b[0;34m.\u001b[0m\u001b[0mrf\u001b[0m\u001b[0;34m(\u001b[0m\u001b[0mx\u001b[0m\u001b[0;34m.\u001b[0m\u001b[0mdat\u001b[0m\u001b[0;34m)\u001b[0m\u001b[0;34m\u001b[0m\u001b[0;34m\u001b[0m\u001b[0m\n\u001b[0m\u001b[1;32m      9\u001b[0m         \u001b[0;32mexcept\u001b[0m \u001b[0mfiredrake\u001b[0m\u001b[0;34m.\u001b[0m\u001b[0mConvergenceError\u001b[0m\u001b[0;34m:\u001b[0m\u001b[0;34m\u001b[0m\u001b[0;34m\u001b[0m\u001b[0m\n\u001b[1;32m     10\u001b[0m             \u001b[0mself\u001b[0m\u001b[0;34m.\u001b[0m\u001b[0mval\u001b[0m \u001b[0;34m=\u001b[0m \u001b[0mnp\u001b[0m\u001b[0;34m.\u001b[0m\u001b[0minf\u001b[0m\u001b[0;34m\u001b[0m\u001b[0;34m\u001b[0m\u001b[0m\n",
      "\u001b[0;32m~/firedrake/firedrake/src/pyadjoint/pyadjoint/tape.py\u001b[0m in \u001b[0;36mwrapper\u001b[0;34m(*args, **kwargs)\u001b[0m\n\u001b[1;32m     44\u001b[0m     \u001b[0;32mdef\u001b[0m \u001b[0mwrapper\u001b[0m\u001b[0;34m(\u001b[0m\u001b[0;34m*\u001b[0m\u001b[0margs\u001b[0m\u001b[0;34m,\u001b[0m \u001b[0;34m**\u001b[0m\u001b[0mkwargs\u001b[0m\u001b[0;34m)\u001b[0m\u001b[0;34m:\u001b[0m\u001b[0;34m\u001b[0m\u001b[0;34m\u001b[0m\u001b[0m\n\u001b[1;32m     45\u001b[0m         \u001b[0;32mwith\u001b[0m \u001b[0mstop_annotating\u001b[0m\u001b[0;34m(\u001b[0m\u001b[0;34m)\u001b[0m\u001b[0;34m:\u001b[0m\u001b[0;34m\u001b[0m\u001b[0;34m\u001b[0m\u001b[0m\n\u001b[0;32m---> 46\u001b[0;31m             \u001b[0;32mreturn\u001b[0m \u001b[0mfunction\u001b[0m\u001b[0;34m(\u001b[0m\u001b[0;34m*\u001b[0m\u001b[0margs\u001b[0m\u001b[0;34m,\u001b[0m \u001b[0;34m**\u001b[0m\u001b[0mkwargs\u001b[0m\u001b[0;34m)\u001b[0m\u001b[0;34m\u001b[0m\u001b[0;34m\u001b[0m\u001b[0m\n\u001b[0m\u001b[1;32m     47\u001b[0m \u001b[0;34m\u001b[0m\u001b[0m\n\u001b[1;32m     48\u001b[0m     \u001b[0;32mreturn\u001b[0m \u001b[0mwrapper\u001b[0m\u001b[0;34m\u001b[0m\u001b[0;34m\u001b[0m\u001b[0m\n",
      "\u001b[0;32m~/firedrake/firedrake/src/pyadjoint/pyadjoint/reduced_functional.py\u001b[0m in \u001b[0;36m__call__\u001b[0;34m(self, values)\u001b[0m\n\u001b[1;32m    135\u001b[0m                     \u001b[0mblocks\u001b[0m\u001b[0;34m[\u001b[0m\u001b[0mi\u001b[0m\u001b[0;34m]\u001b[0m\u001b[0;34m.\u001b[0m\u001b[0mrecompute\u001b[0m\u001b[0;34m(\u001b[0m\u001b[0;34m)\u001b[0m\u001b[0;34m\u001b[0m\u001b[0;34m\u001b[0m\u001b[0m\n\u001b[1;32m    136\u001b[0m \u001b[0;34m\u001b[0m\u001b[0m\n\u001b[0;32m--> 137\u001b[0;31m         \u001b[0mfunc_value\u001b[0m \u001b[0;34m=\u001b[0m \u001b[0mself\u001b[0m\u001b[0;34m.\u001b[0m\u001b[0mscale\u001b[0m \u001b[0;34m*\u001b[0m \u001b[0mself\u001b[0m\u001b[0;34m.\u001b[0m\u001b[0mfunctional\u001b[0m\u001b[0;34m.\u001b[0m\u001b[0mblock_variable\u001b[0m\u001b[0;34m.\u001b[0m\u001b[0mcheckpoint\u001b[0m\u001b[0;34m\u001b[0m\u001b[0;34m\u001b[0m\u001b[0m\n\u001b[0m\u001b[1;32m    138\u001b[0m \u001b[0;34m\u001b[0m\u001b[0m\n\u001b[1;32m    139\u001b[0m         \u001b[0;31m# Call callback\u001b[0m\u001b[0;34m\u001b[0m\u001b[0;34m\u001b[0m\u001b[0;34m\u001b[0m\u001b[0m\n",
      "\u001b[0;31mAttributeError\u001b[0m: 'numpy.float64' object has no attribute 'block_variable'"
     ]
    }
   ],
   "source": [
    "opt_ctrls = time_dependent_solver.solve()"
   ]
  }
 ],
 "metadata": {
  "kernelspec": {
   "display_name": "firedrake",
   "language": "python",
   "name": "firedrake"
  },
  "language_info": {
   "codemirror_mode": {
    "name": "ipython",
    "version": 3
   },
   "file_extension": ".py",
   "mimetype": "text/x-python",
   "name": "python",
   "nbconvert_exporter": "python",
   "pygments_lexer": "ipython3",
   "version": "3.8.10"
  }
 },
 "nbformat": 4,
 "nbformat_minor": 4
}
